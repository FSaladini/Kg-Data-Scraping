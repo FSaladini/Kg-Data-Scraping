{
 "cells": [
  {
   "cell_type": "markdown",
   "id": "e4a65d68",
   "metadata": {},
   "source": [
    "# Disney Dataset Creation\n",
    "\n",
    "Webscraping solution using beautifulsoup\n",
    "Following along Keith Galli's video: https://www.youtube.com/watch?v=Ewgy-G9cmbg"
   ]
  },
  {
   "cell_type": "code",
   "execution_count": 1,
   "id": "c071de48",
   "metadata": {
    "ExecuteTime": {
     "end_time": "2022-03-20T17:54:41.752014Z",
     "start_time": "2022-03-20T17:54:39.672301Z"
    }
   },
   "outputs": [],
   "source": [
    "import pandas as pd\n",
    "from bs4 import BeautifulSoup as bs\n",
    "import requests\n",
    "import json\n",
    "import re\n",
    "from datetime import datetime\n",
    "import pickle\n",
    "import os\n",
    "import urllib"
   ]
  },
  {
   "cell_type": "code",
   "execution_count": 2,
   "id": "94113861",
   "metadata": {
    "ExecuteTime": {
     "end_time": "2022-03-20T17:54:44.936235Z",
     "start_time": "2022-03-20T17:54:42.597386Z"
    }
   },
   "outputs": [],
   "source": [
    "# getting the page\n",
    "r = requests.get(\"https://en.wikipedia.org/wiki/Toy_Story_3\")\n",
    "\n",
    "# creating the soup\n",
    "soup = bs(r.content)\n",
    "\n",
    "# making it readable\n",
    "contents = soup.prettify()"
   ]
  },
  {
   "cell_type": "code",
   "execution_count": 3,
   "id": "4a00a10d",
   "metadata": {
    "ExecuteTime": {
     "end_time": "2022-03-20T17:54:44.968216Z",
     "start_time": "2022-03-20T17:54:44.941232Z"
    }
   },
   "outputs": [],
   "source": [
    "# getting only the infobox with the main info\n",
    "info_box = soup.find(class_=\"infobox vevent\")\n",
    "info_rows = info_box.find_all(\"tr\")\n"
   ]
  },
  {
   "cell_type": "code",
   "execution_count": 4,
   "id": "2c171526",
   "metadata": {
    "ExecuteTime": {
     "end_time": "2022-03-20T17:54:45.016108Z",
     "start_time": "2022-03-20T17:54:44.980209Z"
    }
   },
   "outputs": [],
   "source": [
    "movie_info = {}\n",
    "\n",
    "\n",
    "def get_content(row_data):\n",
    "    if row_data.find(\"li\"):\n",
    "        return [li.get_text(\" \", strip=True).replace(\"\\xa0\", \" \") for li in row_data.find_all(\"li\")]\n",
    "    else:\n",
    "        return row_data.get_text(\" \", strip=True).replace(\"\\xa0\", \" \")\n",
    "\n",
    "for index, row in enumerate(info_rows):\n",
    "    if index == 0:\n",
    "        movie_info['title'] = row.find('th').get_text()\n",
    "    elif index == 1:\n",
    "        continue\n",
    "    else:\n",
    "        content_key = row.find(\"th\").get_text(\" \", strip=True)\n",
    "        content_value = get_content(row.find('td'))\n",
    "        movie_info[content_key] = content_value\n",
    "            "
   ]
  },
  {
   "cell_type": "code",
   "execution_count": 5,
   "id": "a44569c9",
   "metadata": {
    "ExecuteTime": {
     "end_time": "2022-03-20T17:54:49.029205Z",
     "start_time": "2022-03-20T17:54:47.004260Z"
    }
   },
   "outputs": [],
   "source": [
    "# getting the page\n",
    "r = requests.get(\"https://en.wikipedia.org/wiki/List_of_Walt_Disney_Pictures_films\")\n",
    "\n",
    "# creating the soup\n",
    "soup = bs(r.content)\n",
    "\n",
    "# making it readable\n",
    "contents = soup.prettify()"
   ]
  },
  {
   "cell_type": "code",
   "execution_count": 6,
   "id": "ea9847f0",
   "metadata": {
    "ExecuteTime": {
     "end_time": "2022-03-20T17:54:49.061196Z",
     "start_time": "2022-03-20T17:54:49.033194Z"
    }
   },
   "outputs": [],
   "source": [
    "def get_content(row_data):\n",
    "    if row_data.find(\"li\"):\n",
    "        return [li.get_text(\" \", strip=True).replace(\"\\xa0\", \" \") for li in row_data.find_all(\"li\")]\n",
    "    elif row_data.find(\"br\"):\n",
    "        return [text for text in row_data.stripped_strings]\n",
    "    else:\n",
    "        return row_data.get_text(\" \", strip=True).replace(\"\\xa0\", \" \")\n",
    "    \n",
    "def clean_tags(soup):\n",
    "    for tag in soup.find_all(\"sup\"):\n",
    "        tag.decompose()\n",
    "    for tag in soup.find_all(\"span\"):\n",
    "        tag.decompose()\n",
    "        \n",
    "def get_info_box(url):\n",
    "    r = requests.get(url)\n",
    "    soup = bs(r.content)\n",
    "    \n",
    "    clean_tags(soup)\n",
    "    \n",
    "    info_box = soup.find(class_=\"infobox vevent\")\n",
    "    info_rows = info_box.find_all(\"tr\")\n",
    "    \n",
    "    movie_info = {}\n",
    "    for index, row in enumerate(info_rows):\n",
    "        if index == 0:\n",
    "            movie_info['title'] = row.find('th').get_text()\n",
    "        else:\n",
    "            header = row.find('th')\n",
    "            if header:\n",
    "                content_key = row.find(\"th\").get_text(\" \", strip=True)\n",
    "                content_value = get_content(row.find('td'))\n",
    "                movie_info[content_key] = content_value\n",
    "                \n",
    "    return movie_info"
   ]
  },
  {
   "cell_type": "code",
   "execution_count": 7,
   "id": "fe06c8fd",
   "metadata": {
    "ExecuteTime": {
     "end_time": "2022-03-20T17:55:04.636944Z",
     "start_time": "2022-03-20T17:54:52.278276Z"
    }
   },
   "outputs": [
    {
     "name": "stdout",
     "output_type": "stream",
     "text": [
      "0\n"
     ]
    },
    {
     "ename": "KeyboardInterrupt",
     "evalue": "",
     "output_type": "error",
     "traceback": [
      "\u001b[1;31m---------------------------------------------------------------------------\u001b[0m",
      "\u001b[1;31mKeyboardInterrupt\u001b[0m                         Traceback (most recent call last)",
      "\u001b[1;32m~\\AppData\\Local\\Temp/ipykernel_3052/3757866131.py\u001b[0m in \u001b[0;36m<module>\u001b[1;34m\u001b[0m\n\u001b[0;32m     13\u001b[0m         \u001b[0mfull_path\u001b[0m \u001b[1;33m=\u001b[0m \u001b[0mbase_path\u001b[0m \u001b[1;33m+\u001b[0m \u001b[0mrelative_path\u001b[0m\u001b[1;33m\u001b[0m\u001b[1;33m\u001b[0m\u001b[0m\n\u001b[0;32m     14\u001b[0m         \u001b[0mtitle\u001b[0m \u001b[1;33m=\u001b[0m \u001b[0mmovie\u001b[0m\u001b[1;33m[\u001b[0m\u001b[1;34m'title'\u001b[0m\u001b[1;33m]\u001b[0m\u001b[1;33m\u001b[0m\u001b[1;33m\u001b[0m\u001b[0m\n\u001b[1;32m---> 15\u001b[1;33m         \u001b[0mmovie_info_list\u001b[0m\u001b[1;33m.\u001b[0m\u001b[0mappend\u001b[0m\u001b[1;33m(\u001b[0m\u001b[0mget_info_box\u001b[0m\u001b[1;33m(\u001b[0m\u001b[0mfull_path\u001b[0m\u001b[1;33m)\u001b[0m\u001b[1;33m)\u001b[0m\u001b[1;33m\u001b[0m\u001b[1;33m\u001b[0m\u001b[0m\n\u001b[0m\u001b[0;32m     16\u001b[0m \u001b[1;33m\u001b[0m\u001b[0m\n\u001b[0;32m     17\u001b[0m     \u001b[1;32mexcept\u001b[0m \u001b[0mException\u001b[0m \u001b[1;32mas\u001b[0m \u001b[0me\u001b[0m\u001b[1;33m:\u001b[0m\u001b[1;33m\u001b[0m\u001b[1;33m\u001b[0m\u001b[0m\n",
      "\u001b[1;32m~\\AppData\\Local\\Temp/ipykernel_3052/4076175063.py\u001b[0m in \u001b[0;36mget_info_box\u001b[1;34m(url)\u001b[0m\n\u001b[0;32m     14\u001b[0m \u001b[1;33m\u001b[0m\u001b[0m\n\u001b[0;32m     15\u001b[0m \u001b[1;32mdef\u001b[0m \u001b[0mget_info_box\u001b[0m\u001b[1;33m(\u001b[0m\u001b[0murl\u001b[0m\u001b[1;33m)\u001b[0m\u001b[1;33m:\u001b[0m\u001b[1;33m\u001b[0m\u001b[1;33m\u001b[0m\u001b[0m\n\u001b[1;32m---> 16\u001b[1;33m     \u001b[0mr\u001b[0m \u001b[1;33m=\u001b[0m \u001b[0mrequests\u001b[0m\u001b[1;33m.\u001b[0m\u001b[0mget\u001b[0m\u001b[1;33m(\u001b[0m\u001b[0murl\u001b[0m\u001b[1;33m)\u001b[0m\u001b[1;33m\u001b[0m\u001b[1;33m\u001b[0m\u001b[0m\n\u001b[0m\u001b[0;32m     17\u001b[0m     \u001b[0msoup\u001b[0m \u001b[1;33m=\u001b[0m \u001b[0mbs\u001b[0m\u001b[1;33m(\u001b[0m\u001b[0mr\u001b[0m\u001b[1;33m.\u001b[0m\u001b[0mcontent\u001b[0m\u001b[1;33m)\u001b[0m\u001b[1;33m\u001b[0m\u001b[1;33m\u001b[0m\u001b[0m\n\u001b[0;32m     18\u001b[0m \u001b[1;33m\u001b[0m\u001b[0m\n",
      "\u001b[1;32m~\\anaconda3\\envs\\venv_beautifulsoup\\lib\\site-packages\\requests\\api.py\u001b[0m in \u001b[0;36mget\u001b[1;34m(url, params, **kwargs)\u001b[0m\n\u001b[0;32m     73\u001b[0m     \"\"\"\n\u001b[0;32m     74\u001b[0m \u001b[1;33m\u001b[0m\u001b[0m\n\u001b[1;32m---> 75\u001b[1;33m     \u001b[1;32mreturn\u001b[0m \u001b[0mrequest\u001b[0m\u001b[1;33m(\u001b[0m\u001b[1;34m'get'\u001b[0m\u001b[1;33m,\u001b[0m \u001b[0murl\u001b[0m\u001b[1;33m,\u001b[0m \u001b[0mparams\u001b[0m\u001b[1;33m=\u001b[0m\u001b[0mparams\u001b[0m\u001b[1;33m,\u001b[0m \u001b[1;33m**\u001b[0m\u001b[0mkwargs\u001b[0m\u001b[1;33m)\u001b[0m\u001b[1;33m\u001b[0m\u001b[1;33m\u001b[0m\u001b[0m\n\u001b[0m\u001b[0;32m     76\u001b[0m \u001b[1;33m\u001b[0m\u001b[0m\n\u001b[0;32m     77\u001b[0m \u001b[1;33m\u001b[0m\u001b[0m\n",
      "\u001b[1;32m~\\anaconda3\\envs\\venv_beautifulsoup\\lib\\site-packages\\requests\\api.py\u001b[0m in \u001b[0;36mrequest\u001b[1;34m(method, url, **kwargs)\u001b[0m\n\u001b[0;32m     59\u001b[0m     \u001b[1;31m# cases, and look like a memory leak in others.\u001b[0m\u001b[1;33m\u001b[0m\u001b[1;33m\u001b[0m\u001b[1;33m\u001b[0m\u001b[0m\n\u001b[0;32m     60\u001b[0m     \u001b[1;32mwith\u001b[0m \u001b[0msessions\u001b[0m\u001b[1;33m.\u001b[0m\u001b[0mSession\u001b[0m\u001b[1;33m(\u001b[0m\u001b[1;33m)\u001b[0m \u001b[1;32mas\u001b[0m \u001b[0msession\u001b[0m\u001b[1;33m:\u001b[0m\u001b[1;33m\u001b[0m\u001b[1;33m\u001b[0m\u001b[0m\n\u001b[1;32m---> 61\u001b[1;33m         \u001b[1;32mreturn\u001b[0m \u001b[0msession\u001b[0m\u001b[1;33m.\u001b[0m\u001b[0mrequest\u001b[0m\u001b[1;33m(\u001b[0m\u001b[0mmethod\u001b[0m\u001b[1;33m=\u001b[0m\u001b[0mmethod\u001b[0m\u001b[1;33m,\u001b[0m \u001b[0murl\u001b[0m\u001b[1;33m=\u001b[0m\u001b[0murl\u001b[0m\u001b[1;33m,\u001b[0m \u001b[1;33m**\u001b[0m\u001b[0mkwargs\u001b[0m\u001b[1;33m)\u001b[0m\u001b[1;33m\u001b[0m\u001b[1;33m\u001b[0m\u001b[0m\n\u001b[0m\u001b[0;32m     62\u001b[0m \u001b[1;33m\u001b[0m\u001b[0m\n\u001b[0;32m     63\u001b[0m \u001b[1;33m\u001b[0m\u001b[0m\n",
      "\u001b[1;32m~\\anaconda3\\envs\\venv_beautifulsoup\\lib\\site-packages\\requests\\sessions.py\u001b[0m in \u001b[0;36mrequest\u001b[1;34m(self, method, url, params, data, headers, cookies, files, auth, timeout, allow_redirects, proxies, hooks, stream, verify, cert, json)\u001b[0m\n\u001b[0;32m    527\u001b[0m         }\n\u001b[0;32m    528\u001b[0m         \u001b[0msend_kwargs\u001b[0m\u001b[1;33m.\u001b[0m\u001b[0mupdate\u001b[0m\u001b[1;33m(\u001b[0m\u001b[0msettings\u001b[0m\u001b[1;33m)\u001b[0m\u001b[1;33m\u001b[0m\u001b[1;33m\u001b[0m\u001b[0m\n\u001b[1;32m--> 529\u001b[1;33m         \u001b[0mresp\u001b[0m \u001b[1;33m=\u001b[0m \u001b[0mself\u001b[0m\u001b[1;33m.\u001b[0m\u001b[0msend\u001b[0m\u001b[1;33m(\u001b[0m\u001b[0mprep\u001b[0m\u001b[1;33m,\u001b[0m \u001b[1;33m**\u001b[0m\u001b[0msend_kwargs\u001b[0m\u001b[1;33m)\u001b[0m\u001b[1;33m\u001b[0m\u001b[1;33m\u001b[0m\u001b[0m\n\u001b[0m\u001b[0;32m    530\u001b[0m \u001b[1;33m\u001b[0m\u001b[0m\n\u001b[0;32m    531\u001b[0m         \u001b[1;32mreturn\u001b[0m \u001b[0mresp\u001b[0m\u001b[1;33m\u001b[0m\u001b[1;33m\u001b[0m\u001b[0m\n",
      "\u001b[1;32m~\\anaconda3\\envs\\venv_beautifulsoup\\lib\\site-packages\\requests\\sessions.py\u001b[0m in \u001b[0;36msend\u001b[1;34m(self, request, **kwargs)\u001b[0m\n\u001b[0;32m    643\u001b[0m \u001b[1;33m\u001b[0m\u001b[0m\n\u001b[0;32m    644\u001b[0m         \u001b[1;31m# Send the request\u001b[0m\u001b[1;33m\u001b[0m\u001b[1;33m\u001b[0m\u001b[1;33m\u001b[0m\u001b[0m\n\u001b[1;32m--> 645\u001b[1;33m         \u001b[0mr\u001b[0m \u001b[1;33m=\u001b[0m \u001b[0madapter\u001b[0m\u001b[1;33m.\u001b[0m\u001b[0msend\u001b[0m\u001b[1;33m(\u001b[0m\u001b[0mrequest\u001b[0m\u001b[1;33m,\u001b[0m \u001b[1;33m**\u001b[0m\u001b[0mkwargs\u001b[0m\u001b[1;33m)\u001b[0m\u001b[1;33m\u001b[0m\u001b[1;33m\u001b[0m\u001b[0m\n\u001b[0m\u001b[0;32m    646\u001b[0m \u001b[1;33m\u001b[0m\u001b[0m\n\u001b[0;32m    647\u001b[0m         \u001b[1;31m# Total elapsed time of the request (approximately)\u001b[0m\u001b[1;33m\u001b[0m\u001b[1;33m\u001b[0m\u001b[1;33m\u001b[0m\u001b[0m\n",
      "\u001b[1;32m~\\anaconda3\\envs\\venv_beautifulsoup\\lib\\site-packages\\requests\\adapters.py\u001b[0m in \u001b[0;36msend\u001b[1;34m(self, request, stream, timeout, verify, cert, proxies)\u001b[0m\n\u001b[0;32m    438\u001b[0m         \u001b[1;32mtry\u001b[0m\u001b[1;33m:\u001b[0m\u001b[1;33m\u001b[0m\u001b[1;33m\u001b[0m\u001b[0m\n\u001b[0;32m    439\u001b[0m             \u001b[1;32mif\u001b[0m \u001b[1;32mnot\u001b[0m \u001b[0mchunked\u001b[0m\u001b[1;33m:\u001b[0m\u001b[1;33m\u001b[0m\u001b[1;33m\u001b[0m\u001b[0m\n\u001b[1;32m--> 440\u001b[1;33m                 resp = conn.urlopen(\n\u001b[0m\u001b[0;32m    441\u001b[0m                     \u001b[0mmethod\u001b[0m\u001b[1;33m=\u001b[0m\u001b[0mrequest\u001b[0m\u001b[1;33m.\u001b[0m\u001b[0mmethod\u001b[0m\u001b[1;33m,\u001b[0m\u001b[1;33m\u001b[0m\u001b[1;33m\u001b[0m\u001b[0m\n\u001b[0;32m    442\u001b[0m                     \u001b[0murl\u001b[0m\u001b[1;33m=\u001b[0m\u001b[0murl\u001b[0m\u001b[1;33m,\u001b[0m\u001b[1;33m\u001b[0m\u001b[1;33m\u001b[0m\u001b[0m\n",
      "\u001b[1;32m~\\anaconda3\\envs\\venv_beautifulsoup\\lib\\site-packages\\urllib3\\connectionpool.py\u001b[0m in \u001b[0;36murlopen\u001b[1;34m(self, method, url, body, headers, retries, redirect, assert_same_host, timeout, pool_timeout, release_conn, chunked, body_pos, **response_kw)\u001b[0m\n\u001b[0;32m    701\u001b[0m \u001b[1;33m\u001b[0m\u001b[0m\n\u001b[0;32m    702\u001b[0m             \u001b[1;31m# Make the request on the httplib connection object.\u001b[0m\u001b[1;33m\u001b[0m\u001b[1;33m\u001b[0m\u001b[1;33m\u001b[0m\u001b[0m\n\u001b[1;32m--> 703\u001b[1;33m             httplib_response = self._make_request(\n\u001b[0m\u001b[0;32m    704\u001b[0m                 \u001b[0mconn\u001b[0m\u001b[1;33m,\u001b[0m\u001b[1;33m\u001b[0m\u001b[1;33m\u001b[0m\u001b[0m\n\u001b[0;32m    705\u001b[0m                 \u001b[0mmethod\u001b[0m\u001b[1;33m,\u001b[0m\u001b[1;33m\u001b[0m\u001b[1;33m\u001b[0m\u001b[0m\n",
      "\u001b[1;32m~\\anaconda3\\envs\\venv_beautifulsoup\\lib\\site-packages\\urllib3\\connectionpool.py\u001b[0m in \u001b[0;36m_make_request\u001b[1;34m(self, conn, method, url, timeout, chunked, **httplib_request_kw)\u001b[0m\n\u001b[0;32m    384\u001b[0m         \u001b[1;31m# Trigger any extra validation we need to do.\u001b[0m\u001b[1;33m\u001b[0m\u001b[1;33m\u001b[0m\u001b[1;33m\u001b[0m\u001b[0m\n\u001b[0;32m    385\u001b[0m         \u001b[1;32mtry\u001b[0m\u001b[1;33m:\u001b[0m\u001b[1;33m\u001b[0m\u001b[1;33m\u001b[0m\u001b[0m\n\u001b[1;32m--> 386\u001b[1;33m             \u001b[0mself\u001b[0m\u001b[1;33m.\u001b[0m\u001b[0m_validate_conn\u001b[0m\u001b[1;33m(\u001b[0m\u001b[0mconn\u001b[0m\u001b[1;33m)\u001b[0m\u001b[1;33m\u001b[0m\u001b[1;33m\u001b[0m\u001b[0m\n\u001b[0m\u001b[0;32m    387\u001b[0m         \u001b[1;32mexcept\u001b[0m \u001b[1;33m(\u001b[0m\u001b[0mSocketTimeout\u001b[0m\u001b[1;33m,\u001b[0m \u001b[0mBaseSSLError\u001b[0m\u001b[1;33m)\u001b[0m \u001b[1;32mas\u001b[0m \u001b[0me\u001b[0m\u001b[1;33m:\u001b[0m\u001b[1;33m\u001b[0m\u001b[1;33m\u001b[0m\u001b[0m\n\u001b[0;32m    388\u001b[0m             \u001b[1;31m# Py2 raises this as a BaseSSLError, Py3 raises it as socket timeout.\u001b[0m\u001b[1;33m\u001b[0m\u001b[1;33m\u001b[0m\u001b[1;33m\u001b[0m\u001b[0m\n",
      "\u001b[1;32m~\\anaconda3\\envs\\venv_beautifulsoup\\lib\\site-packages\\urllib3\\connectionpool.py\u001b[0m in \u001b[0;36m_validate_conn\u001b[1;34m(self, conn)\u001b[0m\n\u001b[0;32m   1038\u001b[0m         \u001b[1;31m# Force connect early to allow us to validate the connection.\u001b[0m\u001b[1;33m\u001b[0m\u001b[1;33m\u001b[0m\u001b[1;33m\u001b[0m\u001b[0m\n\u001b[0;32m   1039\u001b[0m         \u001b[1;32mif\u001b[0m \u001b[1;32mnot\u001b[0m \u001b[0mgetattr\u001b[0m\u001b[1;33m(\u001b[0m\u001b[0mconn\u001b[0m\u001b[1;33m,\u001b[0m \u001b[1;34m\"sock\"\u001b[0m\u001b[1;33m,\u001b[0m \u001b[1;32mNone\u001b[0m\u001b[1;33m)\u001b[0m\u001b[1;33m:\u001b[0m  \u001b[1;31m# AppEngine might not have  `.sock`\u001b[0m\u001b[1;33m\u001b[0m\u001b[1;33m\u001b[0m\u001b[0m\n\u001b[1;32m-> 1040\u001b[1;33m             \u001b[0mconn\u001b[0m\u001b[1;33m.\u001b[0m\u001b[0mconnect\u001b[0m\u001b[1;33m(\u001b[0m\u001b[1;33m)\u001b[0m\u001b[1;33m\u001b[0m\u001b[1;33m\u001b[0m\u001b[0m\n\u001b[0m\u001b[0;32m   1041\u001b[0m \u001b[1;33m\u001b[0m\u001b[0m\n\u001b[0;32m   1042\u001b[0m         \u001b[1;32mif\u001b[0m \u001b[1;32mnot\u001b[0m \u001b[0mconn\u001b[0m\u001b[1;33m.\u001b[0m\u001b[0mis_verified\u001b[0m\u001b[1;33m:\u001b[0m\u001b[1;33m\u001b[0m\u001b[1;33m\u001b[0m\u001b[0m\n",
      "\u001b[1;32m~\\anaconda3\\envs\\venv_beautifulsoup\\lib\\site-packages\\urllib3\\connection.py\u001b[0m in \u001b[0;36mconnect\u001b[1;34m(self)\u001b[0m\n\u001b[0;32m    356\u001b[0m     \u001b[1;32mdef\u001b[0m \u001b[0mconnect\u001b[0m\u001b[1;33m(\u001b[0m\u001b[0mself\u001b[0m\u001b[1;33m)\u001b[0m\u001b[1;33m:\u001b[0m\u001b[1;33m\u001b[0m\u001b[1;33m\u001b[0m\u001b[0m\n\u001b[0;32m    357\u001b[0m         \u001b[1;31m# Add certificate verification\u001b[0m\u001b[1;33m\u001b[0m\u001b[1;33m\u001b[0m\u001b[1;33m\u001b[0m\u001b[0m\n\u001b[1;32m--> 358\u001b[1;33m         \u001b[0mconn\u001b[0m \u001b[1;33m=\u001b[0m \u001b[0mself\u001b[0m\u001b[1;33m.\u001b[0m\u001b[0m_new_conn\u001b[0m\u001b[1;33m(\u001b[0m\u001b[1;33m)\u001b[0m\u001b[1;33m\u001b[0m\u001b[1;33m\u001b[0m\u001b[0m\n\u001b[0m\u001b[0;32m    359\u001b[0m         \u001b[0mhostname\u001b[0m \u001b[1;33m=\u001b[0m \u001b[0mself\u001b[0m\u001b[1;33m.\u001b[0m\u001b[0mhost\u001b[0m\u001b[1;33m\u001b[0m\u001b[1;33m\u001b[0m\u001b[0m\n\u001b[0;32m    360\u001b[0m         \u001b[0mtls_in_tls\u001b[0m \u001b[1;33m=\u001b[0m \u001b[1;32mFalse\u001b[0m\u001b[1;33m\u001b[0m\u001b[1;33m\u001b[0m\u001b[0m\n",
      "\u001b[1;32m~\\anaconda3\\envs\\venv_beautifulsoup\\lib\\site-packages\\urllib3\\connection.py\u001b[0m in \u001b[0;36m_new_conn\u001b[1;34m(self)\u001b[0m\n\u001b[0;32m    172\u001b[0m \u001b[1;33m\u001b[0m\u001b[0m\n\u001b[0;32m    173\u001b[0m         \u001b[1;32mtry\u001b[0m\u001b[1;33m:\u001b[0m\u001b[1;33m\u001b[0m\u001b[1;33m\u001b[0m\u001b[0m\n\u001b[1;32m--> 174\u001b[1;33m             conn = connection.create_connection(\n\u001b[0m\u001b[0;32m    175\u001b[0m                 \u001b[1;33m(\u001b[0m\u001b[0mself\u001b[0m\u001b[1;33m.\u001b[0m\u001b[0m_dns_host\u001b[0m\u001b[1;33m,\u001b[0m \u001b[0mself\u001b[0m\u001b[1;33m.\u001b[0m\u001b[0mport\u001b[0m\u001b[1;33m)\u001b[0m\u001b[1;33m,\u001b[0m \u001b[0mself\u001b[0m\u001b[1;33m.\u001b[0m\u001b[0mtimeout\u001b[0m\u001b[1;33m,\u001b[0m \u001b[1;33m**\u001b[0m\u001b[0mextra_kw\u001b[0m\u001b[1;33m\u001b[0m\u001b[1;33m\u001b[0m\u001b[0m\n\u001b[0;32m    176\u001b[0m             )\n",
      "\u001b[1;32m~\\anaconda3\\envs\\venv_beautifulsoup\\lib\\site-packages\\urllib3\\util\\connection.py\u001b[0m in \u001b[0;36mcreate_connection\u001b[1;34m(address, timeout, source_address, socket_options)\u001b[0m\n\u001b[0;32m     83\u001b[0m             \u001b[1;32mif\u001b[0m \u001b[0msource_address\u001b[0m\u001b[1;33m:\u001b[0m\u001b[1;33m\u001b[0m\u001b[1;33m\u001b[0m\u001b[0m\n\u001b[0;32m     84\u001b[0m                 \u001b[0msock\u001b[0m\u001b[1;33m.\u001b[0m\u001b[0mbind\u001b[0m\u001b[1;33m(\u001b[0m\u001b[0msource_address\u001b[0m\u001b[1;33m)\u001b[0m\u001b[1;33m\u001b[0m\u001b[1;33m\u001b[0m\u001b[0m\n\u001b[1;32m---> 85\u001b[1;33m             \u001b[0msock\u001b[0m\u001b[1;33m.\u001b[0m\u001b[0mconnect\u001b[0m\u001b[1;33m(\u001b[0m\u001b[0msa\u001b[0m\u001b[1;33m)\u001b[0m\u001b[1;33m\u001b[0m\u001b[1;33m\u001b[0m\u001b[0m\n\u001b[0m\u001b[0;32m     86\u001b[0m             \u001b[1;32mreturn\u001b[0m \u001b[0msock\u001b[0m\u001b[1;33m\u001b[0m\u001b[1;33m\u001b[0m\u001b[0m\n\u001b[0;32m     87\u001b[0m \u001b[1;33m\u001b[0m\u001b[0m\n",
      "\u001b[1;31mKeyboardInterrupt\u001b[0m: "
     ]
    }
   ],
   "source": [
    "r = requests.get(\"https://en.wikipedia.org/wiki/List_of_Walt_Disney_Pictures_films\")\n",
    "soup = bs(r.content)\n",
    "movies = soup.select('.wikitable.sortable i a')\n",
    "base_path = 'https://en.wikipedia.org'\n",
    "movie_info_list = []\n",
    "\n",
    "for index, movie in enumerate(movies):\n",
    "    if index % 10 == 0:\n",
    "        print(index)\n",
    "        \n",
    "    try:\n",
    "        relative_path = movie['href']\n",
    "        full_path = base_path + relative_path\n",
    "        title = movie['title']\n",
    "        movie_info_list.append(get_info_box(full_path))\n",
    "        \n",
    "    except Exception as e:\n",
    "        print(movie.get_text())\n",
    "        print(e)"
   ]
  },
  {
   "cell_type": "code",
   "execution_count": 8,
   "id": "9b8b5afd",
   "metadata": {
    "ExecuteTime": {
     "end_time": "2022-03-20T17:55:12.335500Z",
     "start_time": "2022-03-20T17:55:12.321507Z"
    }
   },
   "outputs": [],
   "source": [
    "def save_data(title, data):\n",
    "    with open(title, 'w', encoding='utf-8') as f:\n",
    "        json.dump(data, f, ensure_ascii=False, indent=2)"
   ]
  },
  {
   "cell_type": "code",
   "execution_count": 9,
   "id": "89964afc",
   "metadata": {
    "ExecuteTime": {
     "end_time": "2022-03-20T17:55:12.616022Z",
     "start_time": "2022-03-20T17:55:12.604029Z"
    }
   },
   "outputs": [],
   "source": [
    "def load_data(title):\n",
    "    with open(title, encoding='utf-8') as f:\n",
    "        return json.load(f)"
   ]
  },
  {
   "cell_type": "code",
   "execution_count": 50,
   "id": "0bb1e3fb",
   "metadata": {
    "ExecuteTime": {
     "end_time": "2022-03-18T23:21:24.371072Z",
     "start_time": "2022-03-18T23:21:24.272104Z"
    }
   },
   "outputs": [],
   "source": [
    "save_data(\"disney_data_cleaned.json\", movie_info_list)"
   ]
  },
  {
   "cell_type": "markdown",
   "id": "464cc2d2",
   "metadata": {},
   "source": [
    "### Data Cleaning "
   ]
  },
  {
   "cell_type": "code",
   "execution_count": 10,
   "id": "ec8f449a",
   "metadata": {
    "ExecuteTime": {
     "end_time": "2022-03-20T17:55:19.200065Z",
     "start_time": "2022-03-20T17:55:19.167085Z"
    }
   },
   "outputs": [],
   "source": [
    "movie_info_list = load_data(\"disney_data_cleaned.json\")"
   ]
  },
  {
   "cell_type": "markdown",
   "id": "aac28f31",
   "metadata": {},
   "source": [
    "#### List of subtasks\n",
    "\n",
    "1. using python datetime \n",
    "2. ~~convert running type and money to integer~~\n",
    "3. ~~remove references [1]~~\n",
    "4. ~~standardize data~~\n",
    "5. ~~some 'starring' are not in a list~~\n",
    "6. ~~look at what is going on at the error ones~~\n"
   ]
  },
  {
   "cell_type": "code",
   "execution_count": null,
   "id": "811df260",
   "metadata": {},
   "outputs": [],
   "source": [
    "# Clean up references (remove [1], [2])"
   ]
  },
  {
   "cell_type": "code",
   "execution_count": 11,
   "id": "75d39be1",
   "metadata": {
    "ExecuteTime": {
     "end_time": "2022-03-20T17:55:21.738800Z",
     "start_time": "2022-03-20T17:55:21.718812Z"
    }
   },
   "outputs": [],
   "source": [
    "# convert running time into an integer\n",
    "def minutes_to_integer(running_time):\n",
    "    if running_time == \"N/A\":\n",
    "        return None\n",
    "    if isinstance(running_time, list):\n",
    "        return int(running_time[0].split(\" \")[0])\n",
    "    else:\n",
    "        return int(running_time.split(\" \")[0])\n",
    "        \n",
    "for movie in movie_info_list:\n",
    "    movie['Runnig time (int)'] = minutes_to_integer(movie.get('Running time', \"N/A\"))\n",
    "\n"
   ]
  },
  {
   "cell_type": "code",
   "execution_count": 12,
   "id": "e2f399fd",
   "metadata": {
    "ExecuteTime": {
     "end_time": "2022-03-20T17:55:22.119563Z",
     "start_time": "2022-03-20T17:55:22.096578Z"
    },
    "scrolled": true
   },
   "outputs": [
    {
     "name": "stdout",
     "output_type": "stream",
     "text": [
      "['N/A', '$1.49 million', '$2.6 million', '$2.28 million', '$600,000', '$950,000', '$858,000', 'N/A', '$788,000', 'N/A', '$1.35 million', '$2.125 million', 'N/A', '$1.5 million', '$1.5 million', 'N/A', '$2.2 million', '$1,800,000', '$3 million', 'N/A', '$4 million', '$2 million', '$300,000', '$1.8 million', 'N/A', '$5 million', 'N/A', '$4 million', 'N/A', 'N/A', 'N/A', 'N/A', 'N/A', 'N/A', '$700,000', 'N/A', 'N/A', 'N/A', 'N/A', 'N/A', '$6 million', 'under $1 million or $1,250,000', 'N/A', '$2 million', 'N/A', 'N/A', '$2.5 million', 'N/A', 'N/A', '$4 million', '$3.6 million', 'N/A', 'N/A', 'N/A', 'N/A', '$3 million', 'N/A', '$3 million', 'N/A', 'N/A', 'N/A', 'N/A', 'N/A', 'N/A', 'N/A', 'N/A', 'N/A', '$3 million', 'N/A', 'N/A', 'N/A', 'N/A', '$4.4–6 million', 'N/A', 'N/A', 'N/A', 'N/A', 'N/A', 'N/A', 'N/A', 'N/A', 'N/A', 'N/A', 'N/A', '$4 million', 'N/A', '$5 million', 'N/A', 'N/A', 'N/A', 'N/A', '$5 million', 'N/A', 'N/A', 'N/A', 'N/A', 'N/A', 'N/A', '$4 million', 'N/A', 'N/A', 'N/A', '$6.3 million', 'N/A', 'N/A', 'N/A', 'N/A', 'N/A', 'N/A', 'N/A', 'N/A', '$5 million', 'N/A', 'N/A', 'N/A', 'N/A', '$8 million', 'N/A', 'N/A', 'N/A', 'N/A', 'N/A', 'N/A', 'AU$1 million', 'N/A', 'N/A', 'N/A', 'N/A', '$5 million', 'N/A', 'N/A', 'N/A', '$7.5 million', 'N/A', '$10 million', 'N/A', 'N/A', '$3.5 to 4 million', 'N/A', 'N/A', 'N/A', '$5.25 million', '$20 million', 'N/A', '$9 million', 'N/A', '$6-8 million', '$20 million', 'N/A', 'N/A', '$18 million', '$12 million', '$14 million', 'N/A', '$17 million', '$5 million', 'unknown', '$20 million', '$11 million', '$28 million', '$44 million', 'N/A', 'N/A', '$14 million', '$9 million', 'N/A', 'A$8.7 million', '$31 million', '$18 million', '$5 million', '$40 million', '$20 million', 'N/A', '$14 million', '60 million Norwegian Kroner (around $8.7 million in 1989)', 'N/A', '$35-40 million', '$25 million', '$15 million', '$32 million', '$14 million', '$28 million', '$12 million', 'N/A', 'N/A', '$6.5 million', '$28 million', '$17 million', '$30 million', 'N/A', '$13 million', 'N/A', 'N/A', '$45 million', '$31 million', 'N/A', '$22 million', '$30 million', 'N/A', '$22 million', ['$32 million', '(estimated)'], '$18 million', '$55 million', '$24 million', '$15 million', '$12 million', 'N/A', '$30 million', 'N/A', '$31 million', 'N/A', '$38 million', '$70 million', '$15 million', 'N/A', '$67 million', 'N/A', '$32 million', '$7 million', '$85 million', '$55 million', '$3 million', '$16 million', '$80 million', '$30 million', '$24 million', '$90 million', '$15 million', 'N/A', '$30 million', '$120 million', '$90 million', '$65 million', '$5 million', 'N/A', '$130 million', '$75–90 million', '$10 million', '$90 million', '$15 million –$30 million', '$4,000,000 (estimated)', '$127.5 million', '$80–$85 million', '$65 million', 'N/A', '$30 million', '$85 million', '$100 million', '$23 million', 'N/A', '$90–120 million', '$26 million', '$25 million', '$115 million', 'N/A', '$33 million', '$20 million', '$5 million', 'N/A', '$22 million', '$80 million', '$35 million', '(US$15–19.2 million)', '$15 million', '$65 million', '$140 million', 'N/A', '$20 million', '$12 million', '$46 million', '$13 million', '$20 million', '$17 million', '$94 million', '$140 million', '$26 million', 'N/A', 'N/A', '$46 million', '$90 million', 'N/A', '$10 million', '$28 million', 'N/A', '$15 million', 'N/A', '$110 million', 'N/A', '$110 million', 'N/A', '$45 million', 'N/A', '$92–145 million', 'N/A', '$100 million', 'N/A', 'N/A', '$20 million', '$56 million', '$25 million', 'N/A', '$50 million', ['¥', '2.4 billion', 'US$24 million'], '$35 million', '$35 million', 'N/A', 'N/A', '$25 million', '$150 million', '$180 million', 'N/A', '$30 million', '$1 million', 'N/A', '$40 million', '$50 million', '$80 million', '$120 million', 'N/A', '$225 million', '$30 million', 'N/A', '$24 million', '$12 million', 'N/A', 'N/A', '$17 million', '$150 million', '$300 million', '$150 million', 'N/A', '$25 million', 'N/A', '$22 million', '$85 million', '$130 million', '$7 million', '$25 million', '$225 million', '$180 million', 'N/A', '$20 million', 'N/A', '$11 million', 'N/A', '$50 million', '$150 million', '$80 million', 'N/A', '$50 million', '$30 million', '$47 million', 'N/A', '$175 million', 'N/A', '$150 million', ['¥', '3.4 billion', '(', 'US$', '34 million)'], 'N/A', '$30—$35 million', '$8 million ( ₽ 350 million)', '$175–200 million', '$35 million', '$105 million', '$150 –$200 million', '$80 million', '$150–200 million', '$200 million', '$150 million', '$22 million', 'N/A', '$30—$35 million', '$35 million', 'N/A', '$260 million', '$170 million', '', 'N/A', 'N/A', '$150 million', 'N/A', '$5 million', '$8 million', ['$410.6 million (gross)', '$378.5 million (net)'], '$200 million', '$30 million', 'N/A', '$45 million', 'N/A', '$23 million', ['$306.6 million (gross)', '$263.7 million (net)'], '$5 million', 'N/A', '$185 million', '$25 million', 'N/A', '$39 million', '$30—35 million', '$165 million', '$200 million', 'N/A', '$200 million', '$225–250 million', '$50 million', 'N/A', '$150 million', '$35 million', '$50 million', 'N/A', '$5 million', '$25 million', '$180–263 million', '$50 million', '(US$3.1 million)', '$28 million', '$165 million', '$50 million', '$17 million', 'N/A', '$84.21-95 million', '$5–10 million', '$180–190 million', '$175 million', '', '$175–200 million', '$70–80 million', '$150 million', '$175–177 million', 'N/A', '$170 million', '$175–200 million', '$140 million', '$65 million', '$15 million', '$150–175 million', '(US$9.3 million)', '$8 million', '$160–255 million', '$5–10 million', '$230–320 million', '$175 million', 'N/A', ['131 crore'], ['~$8 million', '₽', '370 million'], '$175–225 million', '$100–130 million', '$200 million', '$75 million', '$120–133 million', '$175 million', '$130 million', '$170 million', 'N/A', '$183 million', '$200 million', '$250–260 million', '$185 million', '$60 million', 'N/A', '$150 million', '$40 million', '$42 million', '$175–200 million', 'N/A', 'N/A', 'N/A', '$125 million', '$12.5 million (stage production)', 'N/A', '$24 million', 'N/A', '$200 million', 'Unknown', '$26 million', '$150 million', '₽ 650 million', 'N/A', '$100 million+', '$100 million', 'N/A', '$200 million', '$120–150 million', 'N/A', '₽ 454 237 000', 'N/A', '$175 million', 'N/A', 'N/A', 'N/A', 'N/A', 'N/A', 'N/A', 'N/A', 'N/A', 'N/A', 'N/A', 'N/A', 'N/A', 'N/A', 'N/A', '$11 million', 'N/A', '$28 million', '$858,000', '$53.4 million', 'N/A', '$70 million', '$75–90 million', '$80 million', '$130 million', '$5 million', 'N/A', 'N/A', '$18 million or $25 million', 'N/A', '$4 million', '$3 million', 'N/A', '$35-40 million']\n"
     ]
    }
   ],
   "source": [
    "print ([movie.get('Budget', 'N/A') for movie in movie_info_list])\n"
   ]
  },
  {
   "cell_type": "code",
   "execution_count": 13,
   "id": "15099226",
   "metadata": {
    "ExecuteTime": {
     "end_time": "2022-03-20T17:55:24.369891Z",
     "start_time": "2022-03-20T17:55:24.347906Z"
    }
   },
   "outputs": [],
   "source": [
    "# clean up budget & Box office\n",
    "\n",
    "amounts = r\"thousand|million|billion\"\n",
    "number = r\"\\d+(,\\d{3})*\\.*\\d*\"\n",
    "\n",
    "value_re = rf\"\\${number}\"\n",
    "word_re = rf\"\\${number}(-|\\sto\\s|–)?({number})?\\s({amounts})\"\n",
    "\n",
    "'''\n",
    "Possible values:\n",
    "$600,000 -> 600000              ## value syntax\n",
    "$12.2 million -> 12200000       ## word syntax (million, billion, etc)\n",
    "$12-13 million -> 12000000      ## word syntax with a range\n",
    "$16 to 20 million -> 16000000   ## word syntax with a different range\n",
    "[12]\n",
    "'''\n",
    "\n",
    "def word_to_value(word):\n",
    "    value_dict = {\"thousand\": 1000, \"million\": 1000000, \"billion\": 1000000000}\n",
    "    return value_dict[word]\n",
    "\n",
    "\n",
    "def parse_word_syntax(string):\n",
    "    value_string = re.search(number, string).group()\n",
    "    value = float(value_string.replace(\",\", \"\"))\n",
    "\n",
    "    word = re.search(amounts, string, flags=re.I).group().lower()\n",
    "    total_amount = value * word_to_value(word)\n",
    "    return total_amount\n",
    "\n",
    "def parse_value_syntax(string):\n",
    "    value_string = re.search(number, string).group()\n",
    "    value = float(value_string.replace(\",\", \"\"))\n",
    "    return value\n",
    "\n",
    "def money_conversion(money):\n",
    "    if money == \"N/A\":\n",
    "        return None\n",
    "    \n",
    "    if isinstance(money, list):\n",
    "        money = money[0]\n",
    "\n",
    "    value_syntax = re.search(value_re, money)\n",
    "    word_syntax = re.search(word_re, money, flags=re.I)\n",
    "\n",
    "    if word_syntax:\n",
    "        return parse_word_syntax(word_syntax.group())\n",
    "\n",
    "    elif value_syntax:\n",
    "        return parse_value_syntax(value_syntax.group())\n",
    "    else:\n",
    "        return None\n"
   ]
  },
  {
   "cell_type": "code",
   "execution_count": 14,
   "id": "e4e8595a",
   "metadata": {
    "ExecuteTime": {
     "end_time": "2022-03-20T17:55:24.983109Z",
     "start_time": "2022-03-20T17:55:24.949128Z"
    }
   },
   "outputs": [],
   "source": [
    "for movie in movie_info_list:\n",
    "    movie['Budget (float)'] = money_conversion(movie.get('Budget', \"N/A\"))\n",
    "    movie['Box office (float)'] = money_conversion(movie.get('Box office', \"N/A\"))\n"
   ]
  },
  {
   "cell_type": "code",
   "execution_count": 15,
   "id": "b1a3472d",
   "metadata": {
    "ExecuteTime": {
     "end_time": "2022-03-20T17:55:25.316274Z",
     "start_time": "2022-03-20T17:55:25.260309Z"
    },
    "scrolled": true
   },
   "outputs": [
    {
     "name": "stdout",
     "output_type": "stream",
     "text": [
      "['May 19, 1937']\n",
      "['December 21, 1937 ( Carthay Circle Theatre )', 'February 4, 1938 (United States)']\n",
      "['February 7, 1940 ( Center Theatre )', 'February 23, 1940 (United States)']\n",
      "['November 13, 1940']\n",
      "['June 27, 1941']\n",
      "['October 23, 1941 (New York City)', 'October 31, 1941 (U.S.)']\n",
      "['August 9, 1942 (World Premiere – London)', 'August 13, 1942 (Premiere – New York City)', 'August 21, 1942 (U.S.)']\n",
      "['August 24, 1942 (World Premiere – Rio de Janeiro)', 'February 6, 1943 (U.S. Premiere – Boston)', 'February 19, 1943 (U.S.)']\n",
      "['July 17, 1943']\n",
      "['December 21, 1944 (Mexico City)', 'February 3, 1945 (US)']\n",
      "['April 20, 1946 (New York City premiere)', 'August 15, 1946 (U.S.)']\n",
      "['November 12, 1946 (Premiere: Atlanta, Georgia)', 'November 20, 1946', 'March 30, 1947 (Stanford Theatre, Palo Alto, California)']\n",
      "['September 27, 1947']\n",
      "May 27, 1948\n",
      "['November 29, 1948 (Chicago, Illinois)', 'January 19, 1949 (Indianapolis, Indiana)']\n",
      "['October 5, 1949']\n",
      "['February 15, 1950 (Boston)', 'March 4, 1950 (United States)']\n",
      "['June 22, 1950 (World Premiere-London)', 'July 30, 1950 (US)']\n",
      "['July 26, 1951 (London, premiere)', 'July 28, 1951 (New York City, premiere)']\n",
      "['March 13, 1952 (Premiere- London )', 'June 26, 1952 ( US )']\n",
      "['February 5, 1953 (United States)']\n",
      "['July 23, 1953 (US)']\n",
      "['November 10, 1953']\n",
      "['26 October 1953 (Premiere- London )', '27 February 1954 ( US )']\n",
      "['August 17, 1954']\n",
      "['December 23, 1954']\n",
      "May 25, 1955\n",
      "['June 22, 1955']\n",
      "['September 14, 1955']\n",
      "December 22, 1955\n",
      "June 8, 1956\n",
      "July 18, 1956\n",
      "['September 4, 1956']\n",
      "['December 20, 1956']\n",
      "June 19, 1957\n",
      "August 28, 1957\n",
      "['December 25, 1957']\n",
      "['July 8, 1958']\n",
      "['August 12, 1958']\n",
      "['December 25, 1958']\n",
      "['January 29, 1959']\n",
      "['March 19, 1959']\n",
      "['June 24, 1959 (Dublin)', 'June 26, 1959 (Los Angeles)']\n",
      "['November 10, 1959']\n",
      "January 21, 1960 ( Sarasota, FL )\n",
      "['February 24, 1960']\n",
      "May 19, 1960\n",
      "['June 1960 ( Berlin )', 'August 10, 1960 (US)']\n",
      "['November 1, 1960']\n",
      "['December 21, 1960']\n",
      "['January 25, 1961']\n",
      "March 16, 1961\n",
      "['June 21, 1961']\n",
      "['July 12, 1961']\n",
      "['July 17, 1961']\n",
      "['December 14, 1961']\n",
      "April 5, 1962\n",
      "['May 17, 1962']\n",
      "['June 6, 1962']\n",
      "September 26, 1962\n",
      "['November 7, 1962 (Los Angeles)']\n",
      "['November 14, 1962 (London, premiere)', 'December 19, 1962 (US)']\n",
      "['January 16, 1963']\n",
      "['March 29, 1963 (U.S.)']\n",
      "['June 1, 1963']\n",
      "['July 7, 1963']\n",
      "November 20, 1963\n",
      "['December 25, 1963']\n",
      "['March 12, 1964']\n",
      "['February 11, 1964 (Los Angeles)']\n",
      "['11 December 1963 ( New York City )', '4 June 1964 (U.S.)']\n",
      "['July 2, 1964']\n",
      "['August 27, 1964 (LA)', 'September 24, 1964 (NY)']\n",
      "November 10, 1964\n",
      "['December 18, 1964']\n",
      "['August 18, 1965 (Los Angeles)']\n",
      "['December 2, 1965']\n",
      "['February 4, 1966 (premiere)', 'February 16, 1966 (United States)']\n",
      "['June 25, 1966 (San Diego)', 'June 29, 1966 (U.S.)']\n",
      "October 1, 1966\n",
      "['December 1, 1966']\n",
      "['February 8, 1967 (San Francisco)']\n",
      "['June 15, 1967']\n",
      "['July 12, 1967']\n",
      "['October 18, 1967']\n",
      "['October 19, 1967']\n",
      "['June 23, 1967', 'November 30, 1967']\n",
      "['February 8, 1968']\n",
      "['March 21, 1968 ( Radio City Music Hall )']\n",
      "['June 26, 1968']\n",
      "['December 3, 1968']\n",
      "['December 24, 1968 (limited)', 'March 13, 1969 (wide)']\n",
      "['May 9, 1969']\n",
      "September 4, 1969\n",
      "['November 28, 1969']\n",
      "['February 11, 1970']\n",
      "July 1, 1970\n",
      "['December 15, 1970', 'January 20, 1971']\n",
      "['December 11, 1970 (premiere)', 'December 24, 1970 (United States)']\n",
      "March 17, 1971\n",
      "June 22, 1971\n",
      "['June 30, 1971']\n",
      "['October 7, 1971']\n",
      "['March 22, 1972 (US)']\n",
      "July 12, 1972\n",
      "['July 5, 1972']\n",
      "['October 18, 1972']\n",
      "['December 22, 1972']\n",
      "February 1, 1973\n",
      "['March 23, 1973']\n",
      "['June 20, 1973']\n",
      "['November 8, 1973']\n",
      "['December 14, 1973']\n",
      "['June 6, 1974']\n",
      "['July 31, 1974']\n",
      "['August 1, 1974']\n",
      "December 20, 1974 (with Winnie the Pooh and Tigger Too )\n",
      "['February 6, 1975']\n",
      "['March 21, 1975 (United States)']\n",
      "['July 1, 1975']\n",
      "['July 9, 1975']\n",
      "['October 8, 1975']\n",
      "['1948–1960']\n",
      "December 25, 1975\n",
      "['February 11, 1976 (Los Angeles)']\n",
      "['July 1, 1976']\n",
      "['July 7, 1976']\n",
      "['December 16, 1976']\n",
      "['December 17, 1976']\n",
      "['May 26, 1976', '(UK)', 'March 11, 1977', '(US)']\n",
      "['March 11, 1977']\n",
      "['June 20, 1977']\n",
      "['June 22, 1977']\n",
      "['June 24, 1977']\n",
      "['November 3, 1977']\n",
      "December 16, 1977\n",
      "['March 10, 1978']\n",
      "['June 30, 1978 (New York)']\n",
      "July 5, 1978\n",
      "February 9, 1979\n",
      "['June 27, 1979']\n",
      "['July 19, 1979 (London)', 'August 3, 1979 (Los Angeles)']\n",
      "['December 18, 1979 (United Kingdom)', 'December 21, 1979 (United States)']\n",
      "['February 8, 1980']\n",
      "['April 17, 1980 (New York City)', 'October 9, 1981 (U.S.)']\n",
      "['June 27, 1980']\n",
      "['July 9, 1980 (Los Angeles)']\n",
      "['December 6, 1980 ( Los Angeles )', 'December 12, 1980 ( United States )']\n",
      "February 11, 1981 (Los Angeles)\n",
      "March 20, 1981\n",
      "['June 26, 1981']\n",
      "['July 10, 1981']\n",
      "['August 7, 1981']\n",
      "['February 5, 1982']\n",
      "['July 9, 1982']\n",
      "July 30, 1982\n",
      "['March 11, 1983']\n",
      "['April 29, 1983 (United States)']\n",
      "['October 7, 1983 (limited)', 'January 27, 1984 (release)']\n",
      "['June 21, 1985 (United States)']\n",
      "['July 24, 1985']\n",
      "['September 27, 1985']\n",
      "['November 22, 1985']\n",
      "['July 2, 1986']\n",
      "['August 1, 1986']\n",
      "['June 5, 1987']\n",
      "['24 March 1988 (Australia)']\n",
      "['November 18, 1988']\n",
      "['June 23, 1989']\n",
      "August 18, 1989\n",
      "['November 17, 1989']\n",
      "['August 3, 1990']\n",
      "['November 16, 1990']\n",
      "['January 18, 1991']\n",
      "['3 October 1990']\n",
      "['May 24, 1991']\n",
      "['June 21, 1991']\n",
      "['September 29, 1991 ( NYFF )', 'November 22, 1991 (United States)']\n",
      "['April 10, 1992']\n",
      "['July 17, 1992']\n",
      "['October 2, 1992']\n",
      "['November 25, 1992']\n",
      "['December 11, 1992']\n",
      "February 3, 1993\n",
      "['March 12, 1993']\n",
      "['April 2, 1993']\n",
      "['July 16, 1993']\n",
      "['October 1, 1993']\n",
      "['November 12, 1993']\n",
      "['January 14, 1994']\n",
      "['February 11, 1994']\n",
      "['April 17, 1994']\n",
      "['April 14, 1994']\n",
      "['June 15, 1994 (United States)']\n",
      "['July 15, 1994']\n",
      "['October 28, 1994']\n",
      "['November 11, 1994']\n",
      "['December 25, 1994']\n",
      "['February 17, 1995']\n",
      "['March 3, 1995']\n",
      "['March 24, 1995']\n",
      "['April 7, 1995']\n",
      "['June 10, 1995', 'June 23, 1995']\n",
      "['July 28, 1995']\n",
      "['August 11, 1995']\n",
      "['September 27, 1995']\n",
      "['January 22, 1995 ( Sundance Film Festival )', 'October 20, 1995 (U.S.)']\n",
      "['November 19, 1995 ( El Capitan Theatre )', 'November 22, 1995 (United States)']\n",
      "['December 22, 1995']\n",
      "['February 16, 1996']\n",
      "['March 8, 1996']\n",
      "['April 12, 1996 (United States)', 'August 2, 1996 (United Kingdom)']\n",
      "['June 19, 1996 (New Orleans)', 'June 21, 1996 (United States)']\n",
      "['December 20, 1996']\n",
      "['October 4, 1996']\n",
      "['November 27, 1996 (United States)']\n",
      "['February 14, 1997']\n",
      "['March 7, 1997 (US)', 'August 5, 1997 (France)']\n",
      "March 18, 1997\n",
      "['June 13, 1997 (United States)']\n",
      "['July 16, 1997']\n",
      "['August 1, 1997']\n",
      "['October 10, 1997']\n",
      "['November 16, 1997 ( Pennsylvania )', 'November 26, 1997 (United States)']\n",
      "['December 25, 1997']\n",
      "['March 27, 1998 (United States)']\n",
      "['June 19, 1998']\n",
      "['July 29, 1998 (United States)']\n",
      "September 29, 1998\n",
      "['November 13, 1998']\n",
      "['November 20, 1998']\n",
      "['December 25, 1998']\n",
      "['February 12, 1999']\n",
      "['March 26, 1999']\n",
      "['May 14, 1999']\n",
      "['June 12, 1999 ( El Capitan Theatre )', 'June 16, 1999 (United States )']\n",
      "['July 23, 1999']\n",
      "['May 1999 ( Cannes )', 'October 15, 1999 (United States)']\n",
      "['November 13, 1999 ( El Capitan Theatre )', 'November 24, 1999 (United States)']\n",
      "February 11, 2000\n",
      "['March 10, 2000']\n",
      "['May 19, 2000 (United States)']\n",
      "['December 17, 1999 (Premiere)', 'January 1, 2000 ( IMAX )', 'June 16, 2000 (United States)']\n",
      "['July 7, 2000']\n",
      "['September 19, 2000']\n",
      "['September 29, 2000']\n",
      "['November 22, 2000 (United States)']\n",
      "['December 8, 2000 (premiere)', 'December 15, 2000 (United States)']\n",
      "['February 10, 2001 (premiere)', 'February 16, 2001 (United States)']\n",
      "['February 27, 2001']\n",
      "['June 3, 2001 (premiere)', 'June 15, 2001 (United States)']\n",
      "['July 29, 2001 ( El Capitan Theatre )', 'August 3, 2001 (United States)']\n",
      "['October 5, 2001']\n",
      "['October 28, 2001 ( El Capitan Theatre )', 'November 2, 2001 (United States)']\n",
      "['November 6, 2001']\n",
      "['January 18, 2002']\n",
      "['February 10, 2002 ( New York City )', 'February 15, 2002 (United States)']\n",
      "['February 26, 2002']\n",
      "['March 19, 2002']\n",
      "['March 29, 2002']\n",
      "['June 16, 2002 (premiere)', 'June 21, 2002']\n",
      "['July 21, 2002', 'July 26, 2002']\n",
      "['20 July 2001 (Japan)']\n",
      "['October 11, 2002 (U.S.)']\n",
      "['November 1, 2002']\n",
      "['November 27, 2002']\n",
      "['January 21, 2003']\n",
      "['February 14, 2003']\n",
      "['March 11, 2003']\n",
      "['March 16, 2003 (Premiere)', 'March 21, 2003 (United States)', 'July 2, 2003 ( Manila , Philippines )']\n",
      "['March 31, 2003 (premiere)', 'April 11, 2003 (limited)']\n",
      "['April 18, 2003 (United States)']\n",
      "['May 2, 2003 (United States)']\n",
      "['May 30, 2003']\n",
      "['June 28, 2003 ( Disneyland Resort )', 'July 9, 2003 (United States)']\n",
      "['August 4, 2003 ( Los Angeles )', 'August 6, 2003 (United States)']\n",
      "['August 26, 2003']\n",
      "['October 21, 2003']\n",
      "['November 1, 2003']\n",
      "['November 26, 2003']\n",
      "['December 25, 2003']\n",
      "['January 16, 2004']\n",
      "['February 20, 2004']\n",
      "['February 10, 2004']\n",
      "['February 17, 2004 (United States)']\n",
      "['March 9, 2004']\n",
      "['April 2, 2004']\n",
      "['April 22, 2004']\n",
      "['June 16, 2004']\n",
      "['July 2, 2004']\n",
      "['August 11, 2004']\n",
      "['August 17, 2004']\n",
      "['October 24, 2004 ( El Capitan Theatre )', 'November 5, 2004 (United States)']\n",
      "['November 9, 2004']\n",
      "['November 19, 2004']\n",
      "['January 28, 2005']\n",
      "['November 3, 2004 (Italy)', 'February 1, 2005 (United States)']\n",
      "['February 11, 2005']\n",
      "['March 4, 2005']\n",
      "['March 18, 2005']\n",
      "['June 14, 2005']\n",
      "['June 22, 2005']\n",
      "['5 September 2004 ( Venice )', '20 November 2004 (Japan)']\n",
      "['July 29, 2005']\n",
      "['March 25, 2005 (UK)', 'August 19, 2005 (US)']\n",
      "['August 30, 2005']\n",
      "['September 13, 2005']\n",
      "['September 30, 2005']\n",
      "['October 30, 2005 ( El Capitan Theatre )', 'November 4, 2005 (United States)']\n",
      "['December 7, 2005 ( Royal Film Performance )', 'December 8, 2005 (United Kingdom)', 'December 9, 2005 (United States)']\n",
      "December 13, 2005\n",
      "January 13, 2006\n",
      "['January 27, 2006']\n",
      "['January 26, 2006 (Argentina)', 'February 7, 2006 (United States)']\n",
      "['February 17, 2006 (United States)']\n",
      "['March 10, 2006']\n",
      "['April 14, 2006']\n",
      "[\"May 26, 2006 ( Lowe's Motor Speedway )\", 'June 9, 2006 (United States)']\n",
      "['June 23, 2006', 'June 27, 2006']\n",
      "['June 24, 2006 ( Disneyland Resort )', 'July 7, 2006 (United States)']\n",
      "['August 25, 2006']\n",
      "['August 29, 2006']\n",
      "['October 13, 1993 (limited)', 'October 29, 1993 (United States)']\n",
      "['November 3, 2006']\n",
      "['December 12, 2006']\n",
      "['February 6, 2007']\n",
      "['February 16, 2007']\n",
      "['March 23, 2007 (United Kingdom)', 'March 30, 2007 (United States)']\n",
      "['May 19, 2007 ( Disneyland Resort )', 'May 25, 2007 (United States)']\n",
      "['June 22, 2007 ( Kodak Theatre )', 'June 29, 2007 (United States)']\n",
      "['June 29, 2007']\n",
      "['August 3, 2007']\n",
      "['August 28, 2007']\n",
      "['September 23, 2007 ( Hollywood )', 'September 28, 2007 (United States)']\n",
      "['October 20, 2007 ( London )', 'November 21, 2007 (United States)']\n",
      "['December 21, 2007']\n",
      "February 1, 2008\n",
      "['March 7, 2008']\n",
      "['May 7, 2008 ( New York City )', 'May 16, 2008 (United States)', 'June 26, 2008 (United Kingdom)']\n",
      "['June 23, 2008 ( Los Angeles )', 'June 27, 2008 (United States)']\n",
      "['August 26, 2008']\n",
      "['October 3, 2008 (United States)']\n",
      "October 17, 2008\n",
      "['October 17, 2008 (London)', 'October 24, 2008 (United States)']\n",
      "['23 October 2008 (Kuwait)', '24 October 2008 (India and United States)']\n",
      "['October 28, 2008']\n",
      "['November 21, 2008']\n",
      "['December 25, 2008']\n",
      "['February 27, 2009']\n",
      "['March 11, 2009 (Egypt)', 'March 13, 2009 (United States)']\n",
      "['April 10, 2009']\n",
      "['10 October 2007 (France)', '16 November 2007 (United Kingdom)', '12 January 2008 (Germany)', '22 April 2009 (United States)']\n",
      "['April 24, 2009 (San Francisco International Film Festival)', 'May 22, 2009 (United States)']\n",
      "['May 13, 2009 ( Cannes )', 'May 29, 2009 (United States)']\n",
      "N/A\n",
      "['July 24, 2009']\n",
      "['July 19, 2008']\n",
      "['2008']\n",
      "['June 5, 2009 (Japan)', 'October 27, 2009 (United States)', 'February 15, 2010 (Hindi)']\n",
      "['October 29, 2009']\n",
      "['November 3, 2009 ( London )', 'November 6, 2009 (United States)']\n",
      "['November 25, 2009']\n",
      "['November 25, 2009 (Los Angeles premiere)', 'December 11, 2009 (United States)']\n",
      "['February 25, 2010 ( Odeon Leicester Square )', 'March 5, 2010 (United States)']\n",
      "['October 17, 2009 ( Tokyo International Film Festival )', 'January 24, 2010 (France)']\n",
      "['May 9, 2010 (London premiere)', 'May 28, 2010 (United States)']\n",
      "['June 12, 2010 ( Taormina Film Fest )', 'June 18, 2010 (United States)']\n",
      "['July 8, 2010 (Fantasia Film Festival)', 'July 14, 2010']\n",
      "['July 29, 2006']\n",
      "['26 October 2008 ( France )', '29 September 2009 ( United Kingdom )']\n",
      "['August 13, 2010 (United Kingdom)', 'September 21, 2010 (United States)']\n",
      "['September 30, 2010 ( Hollywood )', 'October 8, 2010 (United States)']\n",
      "['8 October 2010']\n",
      "['November 14, 2010 ( El Capitan Theatre )', 'November 24, 2010 (United States)']\n",
      "['November 30, 2010 (Tokyo)', 'December 17, 2010 (United States)']\n",
      "['14 January 2011 (India)']\n",
      "['February 1, 2011']\n",
      "['17 February 2011']\n",
      "['March 6, 2011 ( El Capitan Theatre )', 'March 11, 2011 (United States)']\n",
      "['22 April 2011']\n",
      "['April 22, 2011 (United States)', 'February 1, 2012 (France)', 'April 27, 2012 (United Kingdom)']\n",
      "['April 29, 2011']\n",
      "['May 7, 2011 ( Disneyland Resort )', 'May 20, 2011 (United States)']\n",
      "['June 18, 2011 (Hollywood)', 'June 24, 2011 (United States)']\n",
      "['April 6, 2011 (Belgium)', 'July 15, 2011 (United States)']\n",
      "['September 20, 2011']\n",
      "['November 4, 2011 (Savannah Film Festival)', 'November 23, 2011 (United States)']\n",
      "['January 31, 2012']\n",
      "['17 July 2010']\n",
      "['February 22, 2012 ( Los Angeles )', 'March 9, 2012 (United States)']\n",
      "['April 20, 2012 (United States)', 'February 20, 2013 (France)', 'May 3, 2013 (United Kingdom)']\n",
      "['25 May 2012']\n",
      "['June 10, 2012 ( SIFF )', 'June 22, 2012 (United States)']\n",
      "['August 15, 2012']\n",
      "['September 18, 2012']\n",
      "['September 20, 2012 ( Fantastic Fest )', 'October 5, 2012 ( United States )']\n",
      "['August 16, 2012 (Ukraine)', 'August 31, 2012 (United States (limited))', 'October 23, 2012 (DVD release)']\n",
      "['October 29, 2012 ( El Capitan Theatre )', 'November 2, 2012 (United States)']\n",
      "['February 14, 2013 ( El Capitan Theatre )', 'March 8, 2013 (United States)']\n",
      "['16 March 2011 (France)', '16 April 2013 (United States)']\n",
      "['June 5, 2013 ( BFI Southbank )', 'June 21, 2013 (United States)']\n",
      "['June 22, 2013 ( Hyperion Theatre )', 'July 3, 2013 (United States)']\n",
      "['August 2, 2013 ( EAA AirVenture Oshkosh )', 'August 9, 2013 (United States)']\n",
      "['August 27, 2013']\n",
      "['November 19, 2013 ( El Capitan Theatre )', 'November 22, 2013 (United States)']\n",
      "['October 20, 2013 ( BFI London Film Festival )', 'November 29, 2013 (United Kingdom)', 'December 13, 2013 (United States)', 'January 9, 2014 (Australia)']\n",
      "['March 11, 2014 ( El Capitan Theatre )', 'March 21, 2014 (United States)']\n",
      "['February 13, 2014 (Denmark)', 'April 1, 2014 (United States)']\n",
      "['April 18, 2014 (United States)']\n",
      "['May 6, 2014 ( El Capitan Theatre )', 'May 16, 2014 (United States)']\n",
      "['May 28, 2014 ( El Capitan Theatre )', 'May 30, 2014 (United States)']\n",
      "['July 15, 2014 ( El Capitan Theatre )', 'July 18, 2014 (United States)']\n",
      "['19 September 2014']\n",
      "['October 6, 2014 ( El Capitan Theatre )', 'October 10, 2014 (United States)']\n",
      "['October 23, 2014 ( Tokyo International Film Festival )', 'October 31, 2014 ( Abu Dhabi Film Festival )', 'November 7, 2014 (United States)']\n",
      "['December 8, 2014 ( Ziegfeld Theatre )', 'December 25, 2014 (United States)']\n",
      "['February 9, 2015 ( Hollywood )', 'February 20, 2015 (United States)']\n",
      "['December 12, 2014 (United Kingdom)', 'March 3, 2015 (United States)']\n",
      "['February 13, 2015 ( Berlin )', 'March 13, 2015 (United States)', 'March 27, 2015 (United Kingdom)']\n",
      "['April 17, 2015 (United States)']\n",
      "['May 9, 2015 ( Disneyland )', 'May 22, 2015 (United States)']\n",
      "['May 18, 2015 ( Cannes )', 'June 19, 2015 (United States)']\n",
      "['19 June 2015']\n",
      "['November 10, 2015 ( Paris )', 'November 25, 2015 (United States)']\n",
      "['January 25, 2016 ( TCL Chinese Theatre )', 'January 29, 2016 (United States)']\n",
      "['February 13, 2016 (Belgium)', 'March 4, 2016 (United States)']\n",
      "['April 4, 2016 ( El Capitan Theatre )', 'April 15, 2016 (United States)']\n",
      "['April 23, 2016 (Amsterdam)', 'May 6, 2016 (Spain)', 'May 12, 2016 (Italy)']\n",
      "['May 10, 2016 ( London )', 'May 27, 2016 (United States)']\n",
      "['June 8, 2016 ( El Capitan Theatre )', 'June 17, 2016 (United States)']\n",
      "['May 14, 2016 ( Cannes )', 'July 1, 2016 (United States)', 'July 22, 2016 (United Kingdom)']\n",
      "['August 8, 2016 ( El Capitan Theatre )', 'August 12, 2016 (United States)']\n",
      "['September 10, 2016 ( TIFF )', 'September 23, 2016 (United States)']\n",
      "['November 14, 2016 ( AFI Fest )', 'November 23, 2016 (United States)']\n",
      "['21 December 2016 (United States)', '23 December 2016 (India)']\n",
      "['24 June 2005']\n",
      "['February 23, 2017 ( Spencer House )', 'March 17, 2017 (United States)']\n",
      "['August 12, 2016 (China)', 'April 21, 2017 (United States)', 'August 23, 2017 (France)']\n",
      "['May 11, 2017 ( Shanghai Disney Resort )', 'May 26, 2017 (United States)']\n",
      "['May 23, 2017 ( Kannapolis )', 'June 16, 2017 (United States)']\n",
      "['June 30, 2017 (United States)']\n",
      "['14 July 2017']\n",
      "['October 29, 2017 ( Russia )']\n",
      "['October 20, 2017 ( Morelia )', 'November 22, 2017 (United States)']\n",
      "['February 26, 2018 ( El Capitan Theatre )', 'March 9, 2018 (United States)']\n",
      "['June 5, 2018 ( Los Angeles )', 'June 15, 2018 (United States)']\n",
      "['July 30, 2018 ( Burbank )', 'August 3, 2018 (United States)']\n",
      "['October 29, 2018 ( Dolby Theatre )', 'November 2, 2018 (United States)']\n",
      "['November 5, 2018 ( El Capitan Theatre )', 'November 21, 2018 (United States)']\n",
      "['November 29, 2018 ( Dolby Theatre )', 'December 19, 2018 (United States)']\n",
      "['March 11, 2019 ( Los Angeles )', 'March 29, 2019 (United States)']\n",
      "['April 17, 2019 (United States)']\n",
      "['May 8, 2019 ( Grand Rex )', 'May 24, 2019 (United States)']\n",
      "['June 11, 2019 ( El Capitan Theatre )', 'June 21, 2019 (United States)']\n",
      "['July 9, 2019 ( Hollywood )', 'July 19, 2019 (United States)']\n",
      "['October 18, 2019']\n",
      "['November 12, 2019 (United States)']\n",
      "['November 12, 2019 (United States)']\n",
      "['November 7, 2019 ( Dolby Theatre )', 'November 22, 2019 (United States)']\n",
      "['December 20, 2019 (United States)']\n",
      "['January 25, 2020 ( Sundance )', 'February 7, 2020 ( Disney+ )']\n",
      "['February 21, 2020 ( Berlinale )', 'March 6, 2020 (United States)']\n",
      "['March 13, 2020 (United States)']\n",
      "['March 28, 2018 (France)', 'April 3, 2020 ( Disney+ )']\n",
      "['April 3, 2020']\n",
      "['June 12, 2020']\n",
      "['July 3, 2020']\n",
      "['July 31, 2020']\n",
      "['August 14, 2020']\n",
      "['August 21, 2020 (United States)']\n",
      "['March 9, 2020 ( Hollywood )', 'September 4, 2020 (United States)']\n",
      "['December 4, 2020 (United States)']\n",
      "['December 11, 2020 (United States)']\n",
      "['October 11, 2020 ( BFI Fest )', 'December 25, 2020 (United States)']\n",
      "['January 1, 2021 ( Russia )']\n",
      "['February 19, 2021 (United States)']\n",
      "['March 5, 2021 (United States)']\n",
      "['May 18, 2021 ( El Capitan Theatre )', 'May 28, 2021 (United States)']\n",
      "['June 13, 2021 ( Aquarium of Genoa )', 'June 18, 2021 (United States)']\n",
      "['July 24, 2021 ( Disneyland Resort )', 'July 30, 2021 (United States)']\n",
      "['November 3, 2021 ( El Capitan Theatre )', 'November 24, 2021 (United States)']\n",
      "['December 3, 2021']\n",
      "['December 23, 2021']\n",
      "['January 28, 2022']\n",
      "['March 1, 2022 ( El Capitan Theatre )', 'March 11, 2022 (United States)']\n",
      "['March 16, 2022 ( El Capitan Theatre )', 'March 18, 2022 (United States)']\n",
      "['March 15, 2022 ( El Capitan Theatre )', 'April 1, 2022 (United States)']\n",
      "['April 22, 2022']\n",
      "['May 20, 2022']\n",
      "['June 17, 2022']\n",
      "['March 10, 2023']\n",
      "May 26, 2023\n",
      "September 2022\n",
      "['2022']\n",
      "['December 3, 2021']\n",
      "['2022']\n",
      "N/A\n",
      "N/A\n",
      "['2022']\n",
      "['November 25, 1987']\n",
      "N/A\n",
      "['October 6, 2014 ( El Capitan Theatre )', 'October 10, 2014 (United States)']\n",
      "['August 9, 1942 (World Premiere – London)', 'August 13, 1942 (Premiere – New York City)', 'August 21, 1942 (U.S.)']\n",
      "N/A\n",
      "1950–present\n",
      "['June 19, 1996 (New Orleans)', 'June 21, 1996 (United States)']\n",
      "['July 23, 1999']\n",
      "['June 16, 2002 (premiere)', 'June 21, 2002']\n",
      "['December 21, 2007']\n",
      "['November 8, 1973']\n",
      "N/A\n",
      "N/A\n",
      "['June 6, 1986 (United States)']\n",
      "N/A\n",
      "['December 11, 1970 (premiere)', 'December 24, 1970 (United States)']\n",
      "['December 25, 1963']\n",
      "['1', ': October\\xa028,\\xa02008', '2', ':', '3', ':', '4', ':', '5', ':', '6', ':']\n",
      "['June 21, 1991']\n"
     ]
    }
   ],
   "source": [
    "for movie in movie_info_list:\n",
    "    if movie.get('Release date') != None:\n",
    "        print (movie.get('Release date'))\n",
    "    elif movie.get('Release dates') != None:\n",
    "        print (movie.get('Release dates'))\n",
    "    else:\n",
    "        print (\"N/A\")"
   ]
  },
  {
   "cell_type": "code",
   "execution_count": 16,
   "id": "71542fdd",
   "metadata": {
    "ExecuteTime": {
     "end_time": "2022-03-20T17:55:28.262075Z",
     "start_time": "2022-03-20T17:55:28.237088Z"
    }
   },
   "outputs": [],
   "source": [
    "# Transforming the date into a datetime python object\n",
    "# types of date:\n",
    "# July 24, 2009\n",
    "# 20 July 2001\n",
    "\n",
    "dates = [movie.get('Release date', movie.get('Release dates', \"N/A\")) for movie in movie_info_list]\n",
    "\n",
    "def clean_date(date):\n",
    "    return date.split(\"(\")[0].strip()\n",
    "\n",
    "def date_conversion(date):\n",
    "    if isinstance(date, list):\n",
    "        date = date[0]\n",
    "    \n",
    "    if date == \"N/A\":\n",
    "        return None\n",
    "    \n",
    "    date_str = clean_date(date)\n",
    "    \n",
    "    fmts = [\"%B %d, %Y\", \"%d %B %Y\"]\n",
    "    for fmt in fmts:\n",
    "        try:\n",
    "            return datetime.strptime(date_str,fmt)\n",
    "        except:\n",
    "            pass\n",
    "    return None\n",
    "    "
   ]
  },
  {
   "cell_type": "code",
   "execution_count": 17,
   "id": "0d562b5b",
   "metadata": {
    "ExecuteTime": {
     "end_time": "2022-03-20T17:55:28.949772Z",
     "start_time": "2022-03-20T17:55:28.916791Z"
    }
   },
   "outputs": [],
   "source": [
    "for movie in movie_info_list:\n",
    "    movie['Release date (datetime)'] = date_conversion(movie.get('Release date', movie.get('Release dates', \"N/A\")))\n"
   ]
  },
  {
   "cell_type": "code",
   "execution_count": 18,
   "id": "e11fb97c",
   "metadata": {
    "ExecuteTime": {
     "end_time": "2022-03-20T17:55:29.230250Z",
     "start_time": "2022-03-20T17:55:29.219253Z"
    }
   },
   "outputs": [],
   "source": [
    "# saving the data now using pickle to keep datetime format\n",
    "# therefore, creating new save and load formats\n",
    "def save_data_pickle(name, data):\n",
    "    with open(name, 'wb') as f:\n",
    "        pickle.dump(data, f)\n",
    "\n",
    "def load_data_pickle(name):\n",
    "    with open(name, 'rb') as f:\n",
    "        return pickle.load(f)"
   ]
  },
  {
   "cell_type": "code",
   "execution_count": 19,
   "id": "314f8fb5",
   "metadata": {
    "ExecuteTime": {
     "end_time": "2022-03-20T17:55:31.156285Z",
     "start_time": "2022-03-20T17:55:31.139296Z"
    }
   },
   "outputs": [],
   "source": [
    "save_data_pickle(\"disney_movie_data_better_cleaned.pickle\", movie_info_list)"
   ]
  },
  {
   "cell_type": "code",
   "execution_count": 20,
   "id": "20433c4e",
   "metadata": {
    "ExecuteTime": {
     "end_time": "2022-03-20T17:55:31.361369Z",
     "start_time": "2022-03-20T17:55:31.333385Z"
    }
   },
   "outputs": [],
   "source": [
    "movie_info_list = load_data_pickle('disney_movie_data_better_cleaned.pickle')"
   ]
  },
  {
   "cell_type": "markdown",
   "id": "766ddd18",
   "metadata": {
    "ExecuteTime": {
     "end_time": "2022-03-20T15:26:38.352723Z",
     "start_time": "2022-03-20T15:26:37.369331Z"
    }
   },
   "source": [
    "## Task #4 Attach IMDB/Rotten Totatoes/metascore scores"
   ]
  },
  {
   "cell_type": "code",
   "execution_count": 33,
   "id": "614b7bdc",
   "metadata": {
    "ExecuteTime": {
     "end_time": "2022-03-20T18:01:17.459438Z",
     "start_time": "2022-03-20T18:01:17.436452Z"
    }
   },
   "outputs": [],
   "source": [
    "# using the OMDb API\n",
    "def get_omdb_info(title):\n",
    "    base_url = 'http://www.omdbapi.com/?'\n",
    "    parameters = {'apikey': os.environ['OMDB_API_KEY'], 't': title} \n",
    "    params_encoded = urllib.parse.urlencode(parameters)\n",
    "    full_url = base_url + params_encoded\n",
    "    return requests.get(full_url).json()\n",
    "\n",
    "def get_rotten_tomato_score(omdb_info):\n",
    "    ratings = omdb_info.get('Ratings', [])\n",
    "    for rating in ratings:\n",
    "        if rating['Source'] == 'Rotten Tomatoes':\n",
    "            return rating['Value']\n",
    "    return None"
   ]
  },
  {
   "cell_type": "code",
   "execution_count": 39,
   "id": "95e48494",
   "metadata": {
    "ExecuteTime": {
     "end_time": "2022-03-20T18:09:53.130965Z",
     "start_time": "2022-03-20T18:07:31.303343Z"
    }
   },
   "outputs": [],
   "source": [
    "for movie in movie_info_list:\n",
    "    title = movie['title']\n",
    "    omdb_info = get_omdb_info(title)\n",
    "    movie['imdb'] = omdb_info.get('imdbRating', None)\n",
    "    movie['metascore'] = omdb_info.get('Metascore', None)\n",
    "    movie['rotten_tomatoes'] = get_rotten_tomato_score(omdb_info)\n",
    "    "
   ]
  },
  {
   "cell_type": "code",
   "execution_count": 41,
   "id": "ac59ae85",
   "metadata": {
    "ExecuteTime": {
     "end_time": "2022-03-20T18:13:58.692359Z",
     "start_time": "2022-03-20T18:13:58.676371Z"
    }
   },
   "outputs": [
    {
     "data": {
      "text/plain": [
       "{'title': 'Tales from Earthsea',\n",
       " 'Japanese': '',\n",
       " 'Hepburn': 'Gedo Senki',\n",
       " 'Directed by': 'Gorō Miyazaki',\n",
       " 'Screenplay by': ['Gorō Miyazaki', 'Keiko Niwa'],\n",
       " 'Based on': ['Earthsea',\n",
       "  'by',\n",
       "  'Ursula K. Le Guin',\n",
       "  \"Shuna's Journey\",\n",
       "  'by',\n",
       "  'Hayao Miyazaki'],\n",
       " 'Produced by': ['Toshio Suzuki', 'Tomohiko Ishii'],\n",
       " 'Starring': ['Bunta Sugawara', 'Junichi Okada', 'Aoi Teshima', 'Yūko Tanaka'],\n",
       " 'Edited by': 'Takeshi Seyama',\n",
       " 'Music by': 'Tamiya Terashima',\n",
       " 'Production company': 'Studio Ghibli',\n",
       " 'Distributed by': 'Toho',\n",
       " 'Release date': ['July 29, 2006'],\n",
       " 'Running time': '115 minutes',\n",
       " 'Country': 'Japan',\n",
       " 'Language': 'Japanese',\n",
       " 'Budget': '$22 million',\n",
       " 'Box office': '',\n",
       " 'Runnig time (int)': 115,\n",
       " 'Budget (float)': 22000000.0,\n",
       " 'Box office (float)': None,\n",
       " 'Release date (datetime)': datetime.datetime(2006, 7, 29, 0, 0),\n",
       " 'imdb': '6.4',\n",
       " 'metascore': '47',\n",
       " 'rotten_tomatoes': None}"
      ]
     },
     "execution_count": 41,
     "metadata": {},
     "output_type": "execute_result"
    }
   ],
   "source": [
    "movie_info_list[-150]"
   ]
  },
  {
   "cell_type": "code",
   "execution_count": 43,
   "id": "c71a0b25",
   "metadata": {
    "ExecuteTime": {
     "end_time": "2022-03-20T18:15:29.225238Z",
     "start_time": "2022-03-20T18:15:29.201251Z"
    }
   },
   "outputs": [],
   "source": [
    "save_data_pickle('disney_movie_data_final.pickle', movie_info_list)"
   ]
  },
  {
   "cell_type": "code",
   "execution_count": 44,
   "id": "3e679a99",
   "metadata": {
    "ExecuteTime": {
     "end_time": "2022-03-20T18:17:39.626786Z",
     "start_time": "2022-03-20T18:17:39.612795Z"
    }
   },
   "outputs": [],
   "source": [
    "### Save data as json and csv\n",
    "movie_info_copy = [movie.copy() for movie in movie_info_list]"
   ]
  },
  {
   "cell_type": "code",
   "execution_count": 45,
   "id": "61ce9cbe",
   "metadata": {
    "ExecuteTime": {
     "end_time": "2022-03-20T18:19:22.938258Z",
     "start_time": "2022-03-20T18:19:22.909276Z"
    }
   },
   "outputs": [],
   "source": [
    "for movie in movie_info_copy:\n",
    "    current_date = movie['Release date (datetime)']\n",
    "    if current_date:\n",
    "        movie['Release date (datetime)'] = current_date.strftime(\"%B %d, %Y\")\n",
    "    else:\n",
    "        movie['Release date (datetime)'] = None"
   ]
  },
  {
   "cell_type": "code",
   "execution_count": 53,
   "id": "83b7a5a9",
   "metadata": {
    "ExecuteTime": {
     "end_time": "2022-03-20T18:24:08.126299Z",
     "start_time": "2022-03-20T18:24:08.003377Z"
    }
   },
   "outputs": [],
   "source": [
    "save_data('disney_movie_data_final.json', movie_info_copy)"
   ]
  },
  {
   "cell_type": "code",
   "execution_count": 49,
   "id": "c5806594",
   "metadata": {
    "ExecuteTime": {
     "end_time": "2022-03-20T18:20:52.846905Z",
     "start_time": "2022-03-20T18:20:52.837908Z"
    }
   },
   "outputs": [],
   "source": [
    "import pandas as pd"
   ]
  },
  {
   "cell_type": "code",
   "execution_count": 50,
   "id": "40250e0d",
   "metadata": {
    "ExecuteTime": {
     "end_time": "2022-03-20T18:21:35.360035Z",
     "start_time": "2022-03-20T18:21:35.328056Z"
    }
   },
   "outputs": [],
   "source": [
    "df = pd.DataFrame(movie_info_list)"
   ]
  },
  {
   "cell_type": "code",
   "execution_count": 54,
   "id": "6590c774",
   "metadata": {
    "ExecuteTime": {
     "end_time": "2022-03-20T18:24:10.238694Z",
     "start_time": "2022-03-20T18:24:10.173733Z"
    }
   },
   "outputs": [],
   "source": [
    "df.to_csv(\"disney_movie_data_final.csv\")"
   ]
  },
  {
   "cell_type": "code",
   "execution_count": 55,
   "id": "e548e6bd",
   "metadata": {
    "ExecuteTime": {
     "end_time": "2022-03-20T18:26:03.326443Z",
     "start_time": "2022-03-20T18:26:03.271575Z"
    }
   },
   "outputs": [
    {
     "name": "stdout",
     "output_type": "stream",
     "text": [
      "<class 'pandas.core.frame.DataFrame'>\n",
      "RangeIndex: 518 entries, 0 to 517\n",
      "Data columns (total 50 columns):\n",
      " #   Column                   Non-Null Count  Dtype         \n",
      "---  ------                   --------------  -----         \n",
      " 0   title                    518 non-null    object        \n",
      " 1   Production company       214 non-null    object        \n",
      " 2   Distributed by           516 non-null    object        \n",
      " 3   Release date             339 non-null    object        \n",
      " 4   Running time             495 non-null    object        \n",
      " 5   Country                  463 non-null    object        \n",
      " 6   Language                 497 non-null    object        \n",
      " 7   Box office               400 non-null    object        \n",
      " 8   Runnig time (int)        495 non-null    float64       \n",
      " 9   Budget (float)           307 non-null    float64       \n",
      " 10  Box office (float)       389 non-null    float64       \n",
      " 11  Release date (datetime)  500 non-null    datetime64[ns]\n",
      " 12  imdb                     498 non-null    object        \n",
      " 13  metascore                498 non-null    object        \n",
      " 14  rotten_tomatoes          371 non-null    object        \n",
      " 15  Directed by              513 non-null    object        \n",
      " 16  Written by               226 non-null    object        \n",
      " 17  Based on                 277 non-null    object        \n",
      " 18  Produced by              504 non-null    object        \n",
      " 19  Starring                 479 non-null    object        \n",
      " 20  Music by                 508 non-null    object        \n",
      " 21  Release dates            171 non-null    object        \n",
      " 22  Budget                   316 non-null    object        \n",
      " 23  Story by                 171 non-null    object        \n",
      " 24  Narrated by              68 non-null     object        \n",
      " 25  Cinematography           389 non-null    object        \n",
      " 26  Edited by                463 non-null    object        \n",
      " 27  Languages                19 non-null     object        \n",
      " 28  Screenplay by            244 non-null    object        \n",
      " 29  Countries                49 non-null     object        \n",
      " 30  Color process            4 non-null      object        \n",
      " 31  Production companies     301 non-null    object        \n",
      " 32  Japanese                 5 non-null      object        \n",
      " 33  Hepburn                  5 non-null      object        \n",
      " 34  Adaptation by            1 non-null      object        \n",
      " 35  Animation by             1 non-null      object        \n",
      " 36  Traditional              2 non-null      object        \n",
      " 37  Simplified               2 non-null      object        \n",
      " 38  Original title           1 non-null      object        \n",
      " 39  Layouts by               2 non-null      object        \n",
      " 40  Original concept by      1 non-null      object        \n",
      " 41  Created by               1 non-null      object        \n",
      " 42  Original work            1 non-null      object        \n",
      " 43  Owner                    1 non-null      object        \n",
      " 44  Music                    1 non-null      object        \n",
      " 45  Lyrics                   1 non-null      object        \n",
      " 46  Book                     1 non-null      object        \n",
      " 47  Basis                    1 non-null      object        \n",
      " 48  Productions              1 non-null      object        \n",
      " 49  Awards                   1 non-null      object        \n",
      "dtypes: datetime64[ns](1), float64(3), object(46)\n",
      "memory usage: 202.5+ KB\n"
     ]
    }
   ],
   "source": [
    "df.info()"
   ]
  },
  {
   "cell_type": "code",
   "execution_count": null,
   "id": "0ba05eb3",
   "metadata": {},
   "outputs": [],
   "source": []
  },
  {
   "cell_type": "code",
   "execution_count": null,
   "id": "22bac280",
   "metadata": {},
   "outputs": [],
   "source": []
  },
  {
   "cell_type": "code",
   "execution_count": null,
   "id": "62d89bb4",
   "metadata": {},
   "outputs": [],
   "source": []
  },
  {
   "cell_type": "code",
   "execution_count": null,
   "id": "de5a14bb",
   "metadata": {},
   "outputs": [],
   "source": []
  }
 ],
 "metadata": {
  "kernelspec": {
   "display_name": "Python 3 (ipykernel)",
   "language": "python",
   "name": "python3"
  },
  "language_info": {
   "codemirror_mode": {
    "name": "ipython",
    "version": 3
   },
   "file_extension": ".py",
   "mimetype": "text/x-python",
   "name": "python",
   "nbconvert_exporter": "python",
   "pygments_lexer": "ipython3",
   "version": "3.8.12"
  }
 },
 "nbformat": 4,
 "nbformat_minor": 5
}
