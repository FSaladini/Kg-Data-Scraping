{
 "cells": [
  {
   "cell_type": "markdown",
   "id": "e4a65d68",
   "metadata": {},
   "source": [
    "# Disney Dataset Creation\n",
    "\n",
    "Webscraping solution using beautifulsoup\n",
    "Following along Keith Galli's video: https://www.youtube.com/watch?v=Ewgy-G9cmbg"
   ]
  },
  {
   "cell_type": "code",
   "execution_count": 60,
   "id": "c071de48",
   "metadata": {
    "ExecuteTime": {
     "end_time": "2022-03-14T01:58:57.393027Z",
     "start_time": "2022-03-14T01:58:57.385034Z"
    }
   },
   "outputs": [],
   "source": [
    "import pandas as pd\n",
    "from bs4 import BeautifulSoup as bs\n",
    "import requests\n",
    "import json"
   ]
  },
  {
   "cell_type": "code",
   "execution_count": 25,
   "id": "94113861",
   "metadata": {
    "ExecuteTime": {
     "end_time": "2022-03-13T21:02:35.025676Z",
     "start_time": "2022-03-13T21:02:32.867356Z"
    }
   },
   "outputs": [],
   "source": [
    "# getting the page\n",
    "r = requests.get(\"https://en.wikipedia.org/wiki/Toy_Story_3\")\n",
    "\n",
    "# creating the soup\n",
    "soup = bs(r.content)\n",
    "\n",
    "# making it readable\n",
    "contents = soup.prettify()"
   ]
  },
  {
   "cell_type": "code",
   "execution_count": 28,
   "id": "4a00a10d",
   "metadata": {
    "ExecuteTime": {
     "end_time": "2022-03-13T21:37:47.796352Z",
     "start_time": "2022-03-13T21:37:47.780364Z"
    }
   },
   "outputs": [],
   "source": [
    "# getting only the infobox with the main info\n",
    "info_box = soup.find(class_=\"infobox vevent\")\n",
    "info_rows = info_box.find_all(\"tr\")\n"
   ]
  },
  {
   "cell_type": "code",
   "execution_count": 30,
   "id": "2c171526",
   "metadata": {
    "ExecuteTime": {
     "end_time": "2022-03-14T01:10:48.346694Z",
     "start_time": "2022-03-14T01:10:48.319711Z"
    }
   },
   "outputs": [
    {
     "data": {
      "text/plain": [
       "{'title': 'Toy Story 3',\n",
       " 'Directed by': 'Lee Unkrich',\n",
       " 'Screenplay by': 'Michael Arndt',\n",
       " 'Story by': ['John Lasseter', 'Andrew Stanton', 'Lee Unkrich'],\n",
       " 'Produced by': 'Darla K. Anderson',\n",
       " 'Starring': ['Tom Hanks',\n",
       "  'Tim Allen',\n",
       "  'Joan Cusack',\n",
       "  'Don Rickles',\n",
       "  'Wallace Shawn',\n",
       "  'John Ratzenberger',\n",
       "  'Estelle Harris',\n",
       "  'Ned Beatty',\n",
       "  'Michael Keaton',\n",
       "  'Jodi Benson',\n",
       "  'John Morris'],\n",
       " 'Cinematography': ['Jeremy Lasky', 'Kim White'],\n",
       " 'Edited by': 'Ken Schretzmann',\n",
       " 'Music by': 'Randy Newman',\n",
       " 'Production companies': ['Walt Disney Pictures', 'Pixar Animation Studios'],\n",
       " 'Distributed by': 'Walt Disney Studios Motion Pictures',\n",
       " 'Release dates': ['June 12, 2010 ( 2010-06-12 ) ( Taormina Film Fest )',\n",
       "  'June 18, 2010 ( 2010-06-18 ) (United States)'],\n",
       " 'Running time': '103 minutes',\n",
       " 'Country': 'United States',\n",
       " 'Language': 'English',\n",
       " 'Budget': '$200 million',\n",
       " 'Box office': '$1.067 billion'}"
      ]
     },
     "execution_count": 30,
     "metadata": {},
     "output_type": "execute_result"
    }
   ],
   "source": [
    "movie_info = {}\n",
    "\n",
    "\n",
    "def get_content(row_data):\n",
    "    if row_data.find(\"li\"):\n",
    "        return [li.get_text(\" \", strip=True).replace(\"\\xa0\", \" \") for li in row_data.find_all(\"li\")]\n",
    "    else:\n",
    "        return row_data.get_text(\" \", strip=True).replace(\"\\xa0\", \" \").replace(' [1]', '')\n",
    "\n",
    "for index, row in enumerate(info_rows):\n",
    "    if index == 0:\n",
    "        movie_info['title'] = row.find('th').get_text()\n",
    "    elif index == 1:\n",
    "        continue\n",
    "    else:\n",
    "        content_key = row.find(\"th\").get_text(\" \", strip=True)\n",
    "        content_value = get_content(row.find('td'))\n",
    "        movie_info[content_key] = content_value\n",
    "\n",
    "                \n",
    "movie_info\n",
    "            "
   ]
  },
  {
   "cell_type": "code",
   "execution_count": null,
   "id": "545636f1",
   "metadata": {},
   "outputs": [],
   "source": []
  },
  {
   "cell_type": "code",
   "execution_count": 37,
   "id": "a44569c9",
   "metadata": {
    "ExecuteTime": {
     "end_time": "2022-03-14T01:20:48.561705Z",
     "start_time": "2022-03-14T01:20:46.300712Z"
    }
   },
   "outputs": [],
   "source": [
    "# getting the page\n",
    "r = requests.get(\"https://en.wikipedia.org/wiki/List_of_Walt_Disney_Pictures_films\")\n",
    "\n",
    "# creating the soup\n",
    "soup = bs(r.content)\n",
    "\n",
    "# making it readable\n",
    "contents = soup.prettify()"
   ]
  },
  {
   "cell_type": "code",
   "execution_count": 88,
   "id": "ea9847f0",
   "metadata": {
    "ExecuteTime": {
     "end_time": "2022-03-17T01:52:13.278520Z",
     "start_time": "2022-03-17T01:52:13.244526Z"
    }
   },
   "outputs": [],
   "source": [
    "def get_content(row_data):\n",
    "    if row_data.find(\"li\"):\n",
    "        return [li.get_text(\" \", strip=True).replace(\"\\xa0\", \" \") for li in row_data.find_all(\"li\")]\n",
    "    elif row_data.find(\"br\"):\n",
    "        return [text for text in row_data.stripped_strings]\n",
    "    else:\n",
    "        return row_data.get_text(\" \", strip=True).replace(\"\\xa0\", \" \")\n",
    "    \n",
    "def clean_tags(soup):\n",
    "    for tag in soup.find_all(\"sup\", \"span\"):\n",
    "        tag.decompose()\n",
    "        \n",
    "def get_info_box(url):\n",
    "    r = requests.get(url)\n",
    "    soup = bs(r.content)\n",
    "    \n",
    "    info_box = soup.find(class_=\"infobox vevent\")\n",
    "    info_rows = info_box.find_all(\"tr\")\n",
    "    \n",
    "    clean_tags(soup)\n",
    "    \n",
    "    movie_info = {}\n",
    "    for index, row in enumerate(info_rows):\n",
    "        if index == 0:\n",
    "            movie_info['title'] = row.find('th').get_text()\n",
    "        elif index == 1:\n",
    "            continue\n",
    "        else:\n",
    "            content_key = row.find(\"th\").get_text(\" \", strip=True)\n",
    "            content_value = get_content(row.find('td'))\n",
    "            movie_info[content_key] = content_value\n",
    "    return movie_info\n",
    "\n"
   ]
  },
  {
   "cell_type": "code",
   "execution_count": 90,
   "id": "d6733948",
   "metadata": {
    "ExecuteTime": {
     "end_time": "2022-03-17T01:55:31.165523Z",
     "start_time": "2022-03-17T01:55:30.192794Z"
    }
   },
   "outputs": [
    {
     "data": {
      "text/plain": [
       "{'title': 'Davy Crockett and the River Pirates',\n",
       " 'Directed by': 'Norman Foster',\n",
       " 'Written by': ['Tom Blackburn', 'Norman Foster'],\n",
       " 'Produced by': 'Bill Walsh',\n",
       " 'Starring': ['Fess Parker', 'Buddy Ebsen', 'Jeff York'],\n",
       " 'Edited by': 'Stanley Johnson',\n",
       " 'Music by': ['Thomas W. Blackburn (lyrics)',\n",
       "  'George Bruns',\n",
       "  'Edward H. Plumb (orchestration)'],\n",
       " 'Production company': 'Walt Disney Productions',\n",
       " 'Distributed by': 'Buena Vista Film Distribution Co., Inc.',\n",
       " 'Release date': 'July 18, 1956 ( 1956-07-18 )',\n",
       " 'Running time': '81 minutes',\n",
       " 'Country': 'United States',\n",
       " 'Language': 'English'}"
      ]
     },
     "execution_count": 90,
     "metadata": {},
     "output_type": "execute_result"
    }
   ],
   "source": [
    "get_info_box('https://en.wikipedia.org/wiki/Davy_Crockett_and_the_River_Pirates')"
   ]
  },
  {
   "cell_type": "code",
   "execution_count": 55,
   "id": "fe06c8fd",
   "metadata": {
    "ExecuteTime": {
     "end_time": "2022-03-14T01:57:11.773947Z",
     "start_time": "2022-03-14T01:46:46.280439Z"
    }
   },
   "outputs": [
    {
     "name": "stdout",
     "output_type": "stream",
     "text": [
      "Zorro the Avenger\n",
      "'NoneType' object has no attribute 'find'\n",
      "The Sign of Zorro\n",
      "'NoneType' object has no attribute 'find'\n",
      "True-Life Adventures\n",
      "'NoneType' object has no attribute 'find_all'\n",
      "The London Connection\n",
      "'NoneType' object has no attribute 'find'\n",
      "Spirited Away\n",
      "'NoneType' object has no attribute 'get_text'\n",
      "Howl's Moving Castle\n",
      "'NoneType' object has no attribute 'get_text'\n",
      "The Nightmare Before Christmas 3D\n",
      "'NoneType' object has no attribute 'get_text'\n",
      "The Secret of the Magic Gourd\n",
      "'NoneType' object has no attribute 'get_text'\n",
      "Ponyo\n",
      "'NoneType' object has no attribute 'get_text'\n",
      "Tales from Earthsea\n",
      "'NoneType' object has no attribute 'get_text'\n",
      "Anaganaga O Dheerudu\n",
      "'NoneType' object has no attribute 'get_text'\n",
      "The Secret World of Arrietty\n",
      "'NoneType' object has no attribute 'get_text'\n",
      "The Good Dinosaur\n",
      "'NoneType' object has no attribute 'get_text'\n",
      "Tini: The Movie\n",
      "'NoneType' object has no attribute 'get_text'\n",
      "Born in China\n",
      "'NoneType' object has no attribute 'get_text'\n",
      "The Beatles: Get Back – The Rooftop Concert\n",
      "'NoneType' object has no attribute 'find'\n",
      "61\n",
      "'NoneType' object has no attribute 'find_all'\n",
      "All Night Long\n",
      "'NoneType' object has no attribute 'find'\n",
      "Keeper of the Lost Cities\n",
      "'NoneType' object has no attribute 'find_all'\n",
      "Muppet Man\n",
      "'NoneType' object has no attribute 'find_all'\n",
      "Sister Act 3\n",
      "'NoneType' object has no attribute 'find'\n",
      "citation needed\n",
      "'NoneType' object has no attribute 'find_all'\n",
      "citation needed\n",
      "'NoneType' object has no attribute 'find_all'\n",
      "Tower of Terror\n",
      "'NoneType' object has no attribute 'find_all'\n",
      "Tron: Ares\n",
      "'NoneType' object has no attribute 'find'\n",
      "FC Barcelona\n",
      "'NoneType' object has no attribute 'find_all'\n",
      "citation needed\n",
      "'NoneType' object has no attribute 'find_all'\n"
     ]
    }
   ],
   "source": [
    "r = requests.get(\"https://en.wikipedia.org/wiki/List_of_Walt_Disney_Pictures_films\")\n",
    "soup = bs(r.content)\n",
    "movies = soup.select('.wikitable.sortable i a')\n",
    "base_path = 'https://en.wikipedia.org'\n",
    "movie_info_list = []\n",
    "\n",
    "for index, movie in enumerate(movies):\n",
    "    try:\n",
    "        relative_path = movie['href']\n",
    "        full_path = base_path + relative_path\n",
    "        title = movie['title']\n",
    "        movie_info_list.append(get_info_box(full_path))\n",
    "        \n",
    "    except Exception as e:\n",
    "        print(movie.get_text())\n",
    "        print(e)"
   ]
  },
  {
   "cell_type": "code",
   "execution_count": 61,
   "id": "9b8b5afd",
   "metadata": {
    "ExecuteTime": {
     "end_time": "2022-03-14T02:00:43.324129Z",
     "start_time": "2022-03-14T02:00:43.315135Z"
    }
   },
   "outputs": [],
   "source": [
    "def save_data(title, data):\n",
    "    with open(title, 'w', encoding='utf-8') as f:\n",
    "        json.dump(data, f, ensure_ascii=False, indent=2)"
   ]
  },
  {
   "cell_type": "code",
   "execution_count": 64,
   "id": "89964afc",
   "metadata": {
    "ExecuteTime": {
     "end_time": "2022-03-14T02:03:41.258199Z",
     "start_time": "2022-03-14T02:03:41.237210Z"
    }
   },
   "outputs": [],
   "source": [
    "def load_data(title):\n",
    "    with open(title, encoding='utf-8') as f:\n",
    "        return json.load(f)"
   ]
  },
  {
   "cell_type": "code",
   "execution_count": 65,
   "id": "0bb1e3fb",
   "metadata": {
    "ExecuteTime": {
     "end_time": "2022-03-14T02:03:41.507358Z",
     "start_time": "2022-03-14T02:03:41.433402Z"
    }
   },
   "outputs": [],
   "source": [
    "save_data(\"disney_data.json\", movie_info_list)"
   ]
  },
  {
   "cell_type": "markdown",
   "id": "464cc2d2",
   "metadata": {},
   "source": [
    "### Data Cleaning "
   ]
  },
  {
   "cell_type": "code",
   "execution_count": 66,
   "id": "ec8f449a",
   "metadata": {
    "ExecuteTime": {
     "end_time": "2022-03-17T01:14:40.755438Z",
     "start_time": "2022-03-17T01:14:40.651482Z"
    }
   },
   "outputs": [],
   "source": [
    "movie_info_list = load_data(\"disney_data.json\")"
   ]
  },
  {
   "cell_type": "markdown",
   "id": "aac28f31",
   "metadata": {},
   "source": [
    "#### List of subtasks\n",
    "\n",
    "1. using python datetime \n",
    "2. convert running type and money to integer\n",
    "3. remove references [1] [2]\n",
    "4. standardize data\n",
    "5. some 'starring' are not in a list\n",
    "6. look at what is going on at the error ones \n"
   ]
  },
  {
   "cell_type": "code",
   "execution_count": null,
   "id": "811df260",
   "metadata": {},
   "outputs": [],
   "source": [
    "# Clean up references (remove [1], [2])"
   ]
  },
  {
   "cell_type": "code",
   "execution_count": null,
   "id": "f36a09f3",
   "metadata": {},
   "outputs": [],
   "source": []
  },
  {
   "cell_type": "code",
   "execution_count": null,
   "id": "75d39be1",
   "metadata": {},
   "outputs": [],
   "source": []
  },
  {
   "cell_type": "code",
   "execution_count": null,
   "id": "e2f399fd",
   "metadata": {},
   "outputs": [],
   "source": []
  },
  {
   "cell_type": "code",
   "execution_count": null,
   "id": "15099226",
   "metadata": {},
   "outputs": [],
   "source": []
  },
  {
   "cell_type": "code",
   "execution_count": null,
   "id": "07802e21",
   "metadata": {},
   "outputs": [],
   "source": [
    "\n"
   ]
  },
  {
   "cell_type": "code",
   "execution_count": 86,
   "id": "e4e8595a",
   "metadata": {
    "ExecuteTime": {
     "end_time": "2022-03-17T01:44:00.236039Z",
     "start_time": "2022-03-17T01:44:00.219049Z"
    }
   },
   "outputs": [
    {
     "name": "stdout",
     "output_type": "stream",
     "text": [
      "Weird\n"
     ]
    }
   ],
   "source": []
  }
 ],
 "metadata": {
  "kernelspec": {
   "display_name": "Python 3 (ipykernel)",
   "language": "python",
   "name": "python3"
  },
  "language_info": {
   "codemirror_mode": {
    "name": "ipython",
    "version": 3
   },
   "file_extension": ".py",
   "mimetype": "text/x-python",
   "name": "python",
   "nbconvert_exporter": "python",
   "pygments_lexer": "ipython3",
   "version": "3.8.12"
  }
 },
 "nbformat": 4,
 "nbformat_minor": 5
}
